{
 "cells": [
  {
   "cell_type": "code",
   "execution_count": 1,
   "id": "1f213d05-3db7-481b-8a5a-8c0673ad4a24",
   "metadata": {},
   "outputs": [
    {
     "name": "stdout",
     "output_type": "stream",
     "text": [
      "enter a number:4\n",
      "The number is positive\n"
     ]
    }
   ],
   "source": [
    "x=int(input(\"enter a number:\"))\n",
    "if x>=0:\n",
    "    if x==0:\n",
    "        print(\"The number is zero\")\n",
    "    else:\n",
    "        print(\"The number is positive\")\n",
    "if x<0:\n",
    "    print(\"The number is negative\")"
   ]
  },
  {
   "cell_type": "code",
   "execution_count": 2,
   "id": "be54240f-f39f-4b43-a958-eb11c08234fa",
   "metadata": {},
   "outputs": [
    {
     "name": "stdout",
     "output_type": "stream",
     "text": [
      "Enter a number:0\n",
      "x is 0\n"
     ]
    }
   ],
   "source": [
    "x=int(input(\"Enter a number:\"))\n",
    "if x>=0:\n",
    "    if x==0:\n",
    "        print(\"x is 0\")\n",
    "    else:\n",
    "        print(\"The number is positive\")\n",
    "else:\n",
    "    print(\"The number is negative\")\n",
    "    "
   ]
  },
  {
   "cell_type": "code",
   "execution_count": null,
   "id": "a3f44a78-17e0-44c7-aef6-1de835aa0e07",
   "metadata": {},
   "outputs": [],
   "source": [
    "P=int(input(\"Enter P:\"))\n",
    "N=int(input(\"Enter N:\"))\n",
    "if N<=6:\n",
    "    R=8\n",
    "else:\n",
    "    R=10\n",
    "if P>50000:\n",
    "    R=10\n",
    "pnr=(P)*int(N)*int(R)\n",
    "P1=int(P)+(pnr/100)\n",
    "print(P1)"
   ]
  },
  {
   "cell_type": "code",
   "execution_count": null,
   "id": "b956e163-2d78-4755-b187-6fbb44456ca6",
   "metadata": {},
   "outputs": [],
   "source": [
    "x=\"We are BBA students\"\n",
    "x[0]"
   ]
  },
  {
   "cell_type": "code",
   "execution_count": null,
   "id": "29309a79-9e0f-43d6-92fc-8da93d26a0ec",
   "metadata": {},
   "outputs": [],
   "source": [
    "x[4]"
   ]
  },
  {
   "cell_type": "code",
   "execution_count": null,
   "id": "e32f55f4-a862-4dff-a874-d70caa1e020d",
   "metadata": {},
   "outputs": [],
   "source": [
    "x.upper()"
   ]
  },
  {
   "cell_type": "code",
   "execution_count": null,
   "id": "b5d7243c-2e23-4fea-aa38-9305f82a66b6",
   "metadata": {},
   "outputs": [],
   "source": [
    "x.lower()"
   ]
  },
  {
   "cell_type": "code",
   "execution_count": null,
   "id": "c7f27314-6c76-4b43-96db-b50bbb8a56b9",
   "metadata": {},
   "outputs": [],
   "source": [
    "x.partition(\"BBA\")"
   ]
  },
  {
   "cell_type": "code",
   "execution_count": null,
   "id": "7356e2ab-3faf-480c-85dd-397bcf38ab59",
   "metadata": {},
   "outputs": [],
   "source": [
    "x.split(\"BBA\")"
   ]
  },
  {
   "cell_type": "code",
   "execution_count": null,
   "id": "17233c83-a983-48c4-a13e-5db428ebc626",
   "metadata": {},
   "outputs": [],
   "source": [
    "x.startswith(\"W\")"
   ]
  },
  {
   "cell_type": "code",
   "execution_count": null,
   "id": "ded9f8b7-d76b-4ffa-b330-fbbff12c4f9c",
   "metadata": {},
   "outputs": [],
   "source": [
    "x.count(\"a\")"
   ]
  },
  {
   "cell_type": "code",
   "execution_count": null,
   "id": "d622538c-7a4a-4250-afc1-2979cb4643f0",
   "metadata": {},
   "outputs": [],
   "source": [
    "x=\"This is Ernakulam\""
   ]
  },
  {
   "cell_type": "code",
   "execution_count": null,
   "id": "751419ce-ea07-4128-9814-d2ba20987a96",
   "metadata": {},
   "outputs": [],
   "source": [
    "x.count(\"i\")"
   ]
  },
  {
   "cell_type": "code",
   "execution_count": null,
   "id": "ee1310fa-d781-4bfd-8d19-663e2c8748a4",
   "metadata": {},
   "outputs": [],
   "source": [
    "x.count(\"i\",3,6)"
   ]
  },
  {
   "cell_type": "code",
   "execution_count": null,
   "id": "38bf0805-0a52-4a7a-bec5-3ea9b5e2cf37",
   "metadata": {},
   "outputs": [],
   "source": [
    "x.index(\"E\")"
   ]
  },
  {
   "cell_type": "code",
   "execution_count": null,
   "id": "3514d243-0ea9-4106-ab14-02a19ee2e4c7",
   "metadata": {},
   "outputs": [],
   "source": [
    "x.index(\"k\")"
   ]
  },
  {
   "cell_type": "code",
   "execution_count": null,
   "id": "602257f5-6bd7-46aa-a17e-051d378200cb",
   "metadata": {},
   "outputs": [],
   "source": [
    "x.index(\"i\")"
   ]
  },
  {
   "cell_type": "code",
   "execution_count": null,
   "id": "88085246-15f4-4594-a949-92d976ee5759",
   "metadata": {},
   "outputs": [],
   "source": [
    "x=\"abcd123\""
   ]
  },
  {
   "cell_type": "code",
   "execution_count": null,
   "id": "161b3766-0eb7-4933-a8db-77889e303572",
   "metadata": {},
   "outputs": [],
   "source": [
    "x.isalnum()"
   ]
  },
  {
   "cell_type": "code",
   "execution_count": 1,
   "id": "fdd20730-8927-4afe-aa02-885c0bd476e1",
   "metadata": {},
   "outputs": [
    {
     "name": "stdout",
     "output_type": "stream",
     "text": [
      "Enter Username:ABCD\n",
      "Enter password1234\n",
      "login successful\n",
      "login successful\n"
     ]
    }
   ],
   "source": [
    "x=\"ABCD\"\n",
    "y=\"1234\"\n",
    "x=input(\"Enter Username:\")\n",
    "y=(input(\"Enter password\"))\n",
    "if x==x:\n",
    "    print(\"login successful\")\n",
    "else:\n",
    "    print(\"wrong username \")\n",
    "if y==y:\n",
    "    print(\"login successful\")\n",
    "else:\n",
    "    print(\"wrong password\")"
   ]
  },
  {
   "cell_type": "code",
   "execution_count": null,
   "id": "db9cc265-6fd5-4154-ad0e-47a38e6ba18e",
   "metadata": {},
   "outputs": [],
   "source": []
  }
 ],
 "metadata": {
  "kernelspec": {
   "display_name": "Python 3",
   "language": "python",
   "name": "python3"
  },
  "language_info": {
   "codemirror_mode": {
    "name": "ipython",
    "version": 3
   },
   "file_extension": ".py",
   "mimetype": "text/x-python",
   "name": "python",
   "nbconvert_exporter": "python",
   "pygments_lexer": "ipython3",
   "version": "3.8.8"
  }
 },
 "nbformat": 4,
 "nbformat_minor": 5
}
