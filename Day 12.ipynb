{
 "cells": [
  {
   "cell_type": "code",
   "execution_count": 1,
   "id": "f50e25d1",
   "metadata": {},
   "outputs": [
    {
     "name": "stdout",
     "output_type": "stream",
     "text": [
      "1\n",
      "2\n",
      "3\n",
      "4\n",
      "5\n",
      "6\n"
     ]
    }
   ],
   "source": [
    "x=[1,2,3,4,5,6]\n",
    "for f in x:\n",
    "    print(f)"
   ]
  },
  {
   "cell_type": "code",
   "execution_count": 3,
   "id": "49c21f98",
   "metadata": {},
   "outputs": [
    {
     "name": "stdout",
     "output_type": "stream",
     "text": [
      "Shravan\n",
      "Colin\n",
      "Richard\n",
      "Burhaan\n",
      "joe\n"
     ]
    }
   ],
   "source": [
    "x=[\"Shravan\",\"Colin\",\"Richard\",\"Burhaan\",\"joe\"]\n",
    "for b in x:\n",
    "    print(b)"
   ]
  },
  {
   "cell_type": "code",
   "execution_count": 14,
   "id": "4a8f28e4",
   "metadata": {},
   "outputs": [
    {
     "name": "stdout",
     "output_type": "stream",
     "text": [
      "361\n"
     ]
    }
   ],
   "source": [
    "x=[10,7,21,30,19,22,15,88,99,50]\n",
    "t=0\n",
    "for b in x:\n",
    "    t=t+b\n",
    "print(t)    \n",
    "   \n",
    "\n",
    "    "
   ]
  },
  {
   "cell_type": "code",
   "execution_count": 16,
   "id": "91229b0d",
   "metadata": {},
   "outputs": [
    {
     "name": "stdout",
     "output_type": "stream",
     "text": [
      "19800000\n"
     ]
    }
   ],
   "source": [
    "x=[1,2,5,99,100,4,5,10]\n",
    "t=1\n",
    "for b in x:\n",
    "    t=t*b\n",
    "print(t)    \n"
   ]
  },
  {
   "cell_type": "code",
   "execution_count": 18,
   "id": "c5dbf7ed",
   "metadata": {},
   "outputs": [],
   "source": [
    "x=[10,20,30,40,50,7,4,6,7,99]\n",
    "x.sort()"
   ]
  },
  {
   "cell_type": "code",
   "execution_count": 20,
   "id": "3ea2852b",
   "metadata": {},
   "outputs": [
    {
     "data": {
      "text/plain": [
       "[4, 6, 7, 7, 10, 20, 30, 40, 50, 99]"
      ]
     },
     "execution_count": 20,
     "metadata": {},
     "output_type": "execute_result"
    }
   ],
   "source": [
    "x"
   ]
  },
  {
   "cell_type": "code",
   "execution_count": 21,
   "id": "999e0a9a",
   "metadata": {},
   "outputs": [
    {
     "data": {
      "text/plain": [
       "10"
      ]
     },
     "execution_count": 21,
     "metadata": {},
     "output_type": "execute_result"
    }
   ],
   "source": [
    "len(x)"
   ]
  },
  {
   "cell_type": "code",
   "execution_count": 22,
   "id": "4d304a71",
   "metadata": {},
   "outputs": [
    {
     "data": {
      "text/plain": [
       "99"
      ]
     },
     "execution_count": 22,
     "metadata": {},
     "output_type": "execute_result"
    }
   ],
   "source": [
    "max(x)"
   ]
  },
  {
   "cell_type": "code",
   "execution_count": 23,
   "id": "8306db99",
   "metadata": {},
   "outputs": [
    {
     "data": {
      "text/plain": [
       "4"
      ]
     },
     "execution_count": 23,
     "metadata": {},
     "output_type": "execute_result"
    }
   ],
   "source": [
    "min(x)"
   ]
  },
  {
   "cell_type": "code",
   "execution_count": 24,
   "id": "03f5b796",
   "metadata": {},
   "outputs": [
    {
     "data": {
      "text/plain": [
       "2"
      ]
     },
     "execution_count": 24,
     "metadata": {},
     "output_type": "execute_result"
    }
   ],
   "source": [
    "x=[12,12,5,77,99,88,44,22,77]\n",
    "x.count(12)"
   ]
  },
  {
   "cell_type": "code",
   "execution_count": 25,
   "id": "95d94f0a",
   "metadata": {},
   "outputs": [
    {
     "data": {
      "text/plain": [
       "2"
      ]
     },
     "execution_count": 25,
     "metadata": {},
     "output_type": "execute_result"
    }
   ],
   "source": [
    "x.count(77)"
   ]
  },
  {
   "cell_type": "code",
   "execution_count": 28,
   "id": "dd129d9a",
   "metadata": {},
   "outputs": [],
   "source": [
    "x=[1,2,3,4,5,6,7,8,9,10]\n",
    "x.append(11)"
   ]
  },
  {
   "cell_type": "code",
   "execution_count": 29,
   "id": "d80916db",
   "metadata": {},
   "outputs": [
    {
     "data": {
      "text/plain": [
       "[1, 2, 3, 4, 5, 6, 7, 8, 9, 10, 11]"
      ]
     },
     "execution_count": 29,
     "metadata": {},
     "output_type": "execute_result"
    }
   ],
   "source": [
    "x"
   ]
  },
  {
   "cell_type": "code",
   "execution_count": 41,
   "id": "36328a73",
   "metadata": {},
   "outputs": [
    {
     "name": "stdout",
     "output_type": "stream",
     "text": [
      " Enter your name :aaron\n",
      " Enter your department: 1=bba,2=bcom,3=psy2\n"
     ]
    }
   ],
   "source": [
    "bba=[]\n",
    "bcom=[]\n",
    "psy=[]\n",
    "x=input(\" Enter your name :\")\n",
    "y=int(input(\" Enter your department: 1=bba,2=bcom,3=psy\"))\n",
    "if y==1:\n",
    "    bba.append(x)\n",
    "if y==2:\n",
    "    bcom.append(x)\n",
    "if y==3:\n",
    "    psy.append(x)\n",
    "    \n",
    "\n"
   ]
  },
  {
   "cell_type": "code",
   "execution_count": 42,
   "id": "6fdb808e",
   "metadata": {},
   "outputs": [
    {
     "data": {
      "text/plain": [
       "['aaron']"
      ]
     },
     "execution_count": 42,
     "metadata": {},
     "output_type": "execute_result"
    }
   ],
   "source": [
    "bcom"
   ]
  },
  {
   "cell_type": "code",
   "execution_count": 44,
   "id": "53e0e686",
   "metadata": {},
   "outputs": [
    {
     "name": "stdout",
     "output_type": "stream",
     "text": [
      " Enter your name :Aaron\n",
      " Enter your department: 1=bba,2=bcom,3=psy1\n",
      " Enter your name :Shravan\n",
      " Enter your department: 1=bba,2=bcom,3=psy2\n",
      " Enter your name :Colin\n",
      " Enter your department: 1=bba,2=bcom,3=psy3\n",
      " Enter your name :Richard\n",
      " Enter your department: 1=bba,2=bcom,3=psy1\n",
      " Enter your name :burhan\n",
      " Enter your department: 1=bba,2=bcom,3=psy2\n",
      " Enter your name :shane\n",
      " Enter your department: 1=bba,2=bcom,3=psy3\n",
      " Enter your name :sam\n",
      " Enter your department: 1=bba,2=bcom,3=psy1\n",
      " Enter your name :ram\n",
      " Enter your department: 1=bba,2=bcom,3=psy2\n",
      " Enter your name :sunil\n",
      " Enter your department: 1=bba,2=bcom,3=psy3\n",
      " Enter your name :Ramu\n",
      " Enter your department: 1=bba,2=bcom,3=psy1\n"
     ]
    }
   ],
   "source": [
    "bba=[]\n",
    "bcom=[]\n",
    "psy=[]\n",
    "\n",
    "for f in range(10):\n",
    "    x=input(\" Enter your name :\")\n",
    "    y=int(input(\" Enter your department: 1=bba,2=bcom,3=psy\"))\n",
    "    if y==1:\n",
    "        bba.append(x)\n",
    "    if y==2:\n",
    "        bcom.append(x)\n",
    "    if y==3:\n",
    "        psy.append(x)\n",
    "        \n",
    "  \n",
    " \n"
   ]
  },
  {
   "cell_type": "code",
   "execution_count": 46,
   "id": "af825b9f",
   "metadata": {},
   "outputs": [
    {
     "data": {
      "text/plain": [
       "['Aaron', 'Richard', 'sam', 'Ramu']"
      ]
     },
     "execution_count": 46,
     "metadata": {},
     "output_type": "execute_result"
    }
   ],
   "source": [
    "bba"
   ]
  },
  {
   "cell_type": "code",
   "execution_count": 47,
   "id": "1bdcf58e",
   "metadata": {},
   "outputs": [
    {
     "data": {
      "text/plain": [
       "['Shravan', 'burhan', 'ram']"
      ]
     },
     "execution_count": 47,
     "metadata": {},
     "output_type": "execute_result"
    }
   ],
   "source": [
    "bcom"
   ]
  },
  {
   "cell_type": "code",
   "execution_count": 48,
   "id": "0d18a66e",
   "metadata": {},
   "outputs": [
    {
     "data": {
      "text/plain": [
       "['Colin', 'shane', 'sunil']"
      ]
     },
     "execution_count": 48,
     "metadata": {},
     "output_type": "execute_result"
    }
   ],
   "source": [
    "psy"
   ]
  },
  {
   "cell_type": "code",
   "execution_count": 53,
   "id": "580c1504",
   "metadata": {},
   "outputs": [],
   "source": [
    "x=[2,3,4,5,6,7,8,9]\n",
    "x.insert(2,10)"
   ]
  },
  {
   "cell_type": "code",
   "execution_count": 54,
   "id": "8258260d",
   "metadata": {},
   "outputs": [
    {
     "name": "stdout",
     "output_type": "stream",
     "text": [
      "[2, 3, 10, 4, 5, 6, 7, 8, 9]\n"
     ]
    }
   ],
   "source": [
    "print(x)"
   ]
  },
  {
   "cell_type": "code",
   "execution_count": 55,
   "id": "4813f646",
   "metadata": {},
   "outputs": [],
   "source": [
    "x=[10,8,2,4,8]\n",
    "x.insert(2,10)"
   ]
  },
  {
   "cell_type": "code",
   "execution_count": 56,
   "id": "b31d6eb9",
   "metadata": {},
   "outputs": [
    {
     "data": {
      "text/plain": [
       "[10, 8, 10, 2, 4, 8]"
      ]
     },
     "execution_count": 56,
     "metadata": {},
     "output_type": "execute_result"
    }
   ],
   "source": [
    "x"
   ]
  },
  {
   "cell_type": "code",
   "execution_count": null,
   "id": "9b2032c2",
   "metadata": {},
   "outputs": [],
   "source": []
  }
 ],
 "metadata": {
  "kernelspec": {
   "display_name": "Python 3",
   "language": "python",
   "name": "python3"
  },
  "language_info": {
   "codemirror_mode": {
    "name": "ipython",
    "version": 3
   },
   "file_extension": ".py",
   "mimetype": "text/x-python",
   "name": "python",
   "nbconvert_exporter": "python",
   "pygments_lexer": "ipython3",
   "version": "3.8.8"
  }
 },
 "nbformat": 4,
 "nbformat_minor": 5
}
