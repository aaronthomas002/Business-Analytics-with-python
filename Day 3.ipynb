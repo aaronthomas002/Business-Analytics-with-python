{
 "cells": [
  {
   "cell_type": "code",
   "execution_count": 1,
   "id": "90104a6d",
   "metadata": {},
   "outputs": [],
   "source": [
    "x=10"
   ]
  },
  {
   "cell_type": "code",
   "execution_count": 2,
   "id": "59acecd5",
   "metadata": {},
   "outputs": [],
   "source": [
    "if x > 15 :\n",
    "    print(\"x is greater than 15\")"
   ]
  },
  {
   "cell_type": "code",
   "execution_count": 3,
   "id": "1e6a5831",
   "metadata": {},
   "outputs": [],
   "source": [
    "y=20"
   ]
  },
  {
   "cell_type": "code",
   "execution_count": 4,
   "id": "f606567a",
   "metadata": {},
   "outputs": [
    {
     "name": "stdout",
     "output_type": "stream",
     "text": [
      "y is greater than 15\n"
     ]
    }
   ],
   "source": [
    "if y>15:\n",
    "    print(\"y is greater than 15\")"
   ]
  },
  {
   "cell_type": "code",
   "execution_count": 5,
   "id": "3e27ffa6",
   "metadata": {},
   "outputs": [
    {
     "name": "stdout",
     "output_type": "stream",
     "text": [
      "y is greater than 15\n"
     ]
    }
   ],
   "source": [
    "if y>15:\n",
    "    print(\"y is greater than 15\")\n",
    "if y<15:\n",
    "    print(\"y is less than 15\")   "
   ]
  },
  {
   "cell_type": "code",
   "execution_count": 6,
   "id": "05b55a8c",
   "metadata": {},
   "outputs": [
    {
     "name": "stdout",
     "output_type": "stream",
     "text": [
      "Enter a number= 10\n",
      "y is greater than 15\n"
     ]
    }
   ],
   "source": [
    "x=input(\"Enter a number= \")\n",
    "if y>15:\n",
    "    print(\"y is greater than 15\")\n",
    "if y<15:\n",
    "    print(\"y is less than 15\")   "
   ]
  },
  {
   "cell_type": "code",
   "execution_count": 7,
   "id": "53697737",
   "metadata": {},
   "outputs": [
    {
     "name": "stdout",
     "output_type": "stream",
     "text": [
      "Enter a number= 20\n",
      "y is greater than 15\n",
      "India is my country\n"
     ]
    }
   ],
   "source": [
    "x=input(\"Enter a number= \")\n",
    "if y>15:\n",
    "    print(\"y is greater than 15\")\n",
    "    print(\"India is my country\")\n",
    "if y<15:\n",
    "    print(\"y is less than 15\")   "
   ]
  },
  {
   "cell_type": "code",
   "execution_count": 8,
   "id": "2dc373c1",
   "metadata": {},
   "outputs": [
    {
     "name": "stdout",
     "output_type": "stream",
     "text": [
      "Enter a number= 20\n",
      "y is 20\n"
     ]
    }
   ],
   "source": [
    "x=input(\"Enter a number= \")\n",
    "if y>20:\n",
    "    print(\"y is greater than 15\")\n",
    "    print(\"India is my country\")\n",
    "if y<20:\n",
    "    print(\"y is less than 15\")\n",
    "if y==20:\n",
    "    print(\"y is 20\")"
   ]
  },
  {
   "cell_type": "code",
   "execution_count": 17,
   "id": "564bb326",
   "metadata": {},
   "outputs": [
    {
     "name": "stdout",
     "output_type": "stream",
     "text": [
      "enter p:5000\n",
      "enter n6\n",
      "7400.0\n"
     ]
    }
   ],
   "source": [
    "p=int(input(\"enter p:\"))\n",
    "n=int(input(\"enter n\"))\n",
    "if n>6:\n",
    "    r=10\n",
    "if n<=6:\n",
    "    r=8\n",
    "pnr=int(p)*int(n)*int(r)\n",
    "p1=int(p)+(pnr/100)\n",
    "print(p1)\n",
    "\n",
    "    \n"
   ]
  },
  {
   "cell_type": "code",
   "execution_count": 20,
   "id": "d8a2a15c",
   "metadata": {},
   "outputs": [
    {
     "name": "stdout",
     "output_type": "stream",
     "text": [
      "enter p:100000\n",
      "enter n:2\n",
      "120000.0\n"
     ]
    }
   ],
   "source": [
    "p=int(input(\"enter p:\"))\n",
    "n=int(input(\"enter n:\"))\n",
    "if p>=50000:\n",
    "    r=10\n",
    "pnr=int(p)*int(n)*int(r)\n",
    "p1=int(p)+(pnr/100)\n",
    "print(p1)"
   ]
  },
  {
   "cell_type": "code",
   "execution_count": 21,
   "id": "7e1984a7",
   "metadata": {},
   "outputs": [
    {
     "data": {
      "text/plain": [
       "float"
      ]
     },
     "execution_count": 21,
     "metadata": {},
     "output_type": "execute_result"
    }
   ],
   "source": [
    "type(p1)"
   ]
  },
  {
   "cell_type": "code",
   "execution_count": 23,
   "id": "88bb9112",
   "metadata": {},
   "outputs": [
    {
     "name": "stdout",
     "output_type": "stream",
     "text": [
      " Enter the first no.20\n",
      "Enter the second no.10\n",
      "Calculation1\n",
      "30\n"
     ]
    }
   ],
   "source": [
    "x=int(input(\" Enter the first no.\"))\n",
    "y=int(input(\"Enter the second no.\"))\n",
    "z=int(input(\"Calculation\"))\n",
    "if z==1:\n",
    "    A=x+y\n",
    "    print(A)\n",
    "if z==2:\n",
    "    A=x-y\n",
    "    print(A)\n",
    "if z==3:\n",
    "    A=x*y\n",
    "    print(A)\n",
    "if z==4:\n",
    "    A=x/y\n",
    "    print(A)\n"
   ]
  },
  {
   "cell_type": "code",
   "execution_count": 25,
   "id": "f6f9233a",
   "metadata": {},
   "outputs": [
    {
     "name": "stdout",
     "output_type": "stream",
     "text": [
      " Enter the first no.20\n",
      "Enter the second no.10\n",
      "Calculation:Sub\n",
      "10\n"
     ]
    }
   ],
   "source": [
    "x=int(input(\" Enter the first no.\"))\n",
    "y=int(input(\"Enter the second no.\"))\n",
    "z=input(\"Calculation:\")\n",
    "if z==\"Add\":\n",
    "    A=x+y\n",
    "    print(A)\n",
    "if z==\"Sub\":\n",
    "    A=x-y\n",
    "    print(A)\n",
    "if z==\"Multiply\":\n",
    "    A=x*y\n",
    "    print(A)\n",
    "if z==\"Division\":\n",
    "    A=x/y\n",
    "    print(A)"
   ]
  },
  {
   "cell_type": "code",
   "execution_count": null,
   "id": "0142ecb0",
   "metadata": {},
   "outputs": [],
   "source": []
  }
 ],
 "metadata": {
  "kernelspec": {
   "display_name": "Python 3",
   "language": "python",
   "name": "python3"
  },
  "language_info": {
   "codemirror_mode": {
    "name": "ipython",
    "version": 3
   },
   "file_extension": ".py",
   "mimetype": "text/x-python",
   "name": "python",
   "nbconvert_exporter": "python",
   "pygments_lexer": "ipython3",
   "version": "3.8.8"
  }
 },
 "nbformat": 4,
 "nbformat_minor": 5
}
