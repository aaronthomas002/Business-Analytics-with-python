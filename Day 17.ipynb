{
 "cells": [
  {
   "cell_type": "code",
   "execution_count": 1,
   "id": "62b3195b",
   "metadata": {},
   "outputs": [],
   "source": [
    "import pandas as p"
   ]
  },
  {
   "cell_type": "code",
   "execution_count": 3,
   "id": "4e89fb49",
   "metadata": {},
   "outputs": [],
   "source": [
    "x=p.read_excel(\"income.xlsx\")"
   ]
  },
  {
   "cell_type": "code",
   "execution_count": 4,
   "id": "ffc9c292",
   "metadata": {},
   "outputs": [
    {
     "data": {
      "text/html": [
       "<div>\n",
       "<style scoped>\n",
       "    .dataframe tbody tr th:only-of-type {\n",
       "        vertical-align: middle;\n",
       "    }\n",
       "\n",
       "    .dataframe tbody tr th {\n",
       "        vertical-align: top;\n",
       "    }\n",
       "\n",
       "    .dataframe thead th {\n",
       "        text-align: right;\n",
       "    }\n",
       "</style>\n",
       "<table border=\"1\" class=\"dataframe\">\n",
       "  <thead>\n",
       "    <tr style=\"text-align: right;\">\n",
       "      <th></th>\n",
       "      <th>Salary</th>\n",
       "    </tr>\n",
       "  </thead>\n",
       "  <tbody>\n",
       "    <tr>\n",
       "      <th>0</th>\n",
       "      <td>100000</td>\n",
       "    </tr>\n",
       "  </tbody>\n",
       "</table>\n",
       "</div>"
      ],
      "text/plain": [
       "   Salary\n",
       "0  100000"
      ]
     },
     "execution_count": 4,
     "metadata": {},
     "output_type": "execute_result"
    }
   ],
   "source": [
    "x"
   ]
  },
  {
   "cell_type": "code",
   "execution_count": 9,
   "id": "8d9dc750",
   "metadata": {},
   "outputs": [
    {
     "name": "stdout",
     "output_type": "stream",
     "text": [
      "0\n"
     ]
    }
   ],
   "source": [
    "a=x.loc[0,\"Salary\"]\n",
    "if a<=250000:\n",
    "    tax=0\n",
    "    print(tax)"
   ]
  },
  {
   "cell_type": "code",
   "execution_count": 10,
   "id": "876e9fce",
   "metadata": {},
   "outputs": [],
   "source": [
    "x=p.read_excel(\"income.xlsx\")"
   ]
  },
  {
   "cell_type": "code",
   "execution_count": 11,
   "id": "74a1ee7c",
   "metadata": {},
   "outputs": [
    {
     "data": {
      "text/html": [
       "<div>\n",
       "<style scoped>\n",
       "    .dataframe tbody tr th:only-of-type {\n",
       "        vertical-align: middle;\n",
       "    }\n",
       "\n",
       "    .dataframe tbody tr th {\n",
       "        vertical-align: top;\n",
       "    }\n",
       "\n",
       "    .dataframe thead th {\n",
       "        text-align: right;\n",
       "    }\n",
       "</style>\n",
       "<table border=\"1\" class=\"dataframe\">\n",
       "  <thead>\n",
       "    <tr style=\"text-align: right;\">\n",
       "      <th></th>\n",
       "      <th>Salary</th>\n",
       "    </tr>\n",
       "  </thead>\n",
       "  <tbody>\n",
       "    <tr>\n",
       "      <th>0</th>\n",
       "      <td>100000</td>\n",
       "    </tr>\n",
       "    <tr>\n",
       "      <th>1</th>\n",
       "      <td>260000</td>\n",
       "    </tr>\n",
       "    <tr>\n",
       "      <th>2</th>\n",
       "      <td>600000</td>\n",
       "    </tr>\n",
       "  </tbody>\n",
       "</table>\n",
       "</div>"
      ],
      "text/plain": [
       "   Salary\n",
       "0  100000\n",
       "1  260000\n",
       "2  600000"
      ]
     },
     "execution_count": 11,
     "metadata": {},
     "output_type": "execute_result"
    }
   ],
   "source": [
    "x"
   ]
  },
  {
   "cell_type": "code",
   "execution_count": 18,
   "id": "75481397",
   "metadata": {},
   "outputs": [],
   "source": [
    "x=p.read_excel(\"income.xlsx\")"
   ]
  },
  {
   "cell_type": "code",
   "execution_count": 19,
   "id": "0fa1c850",
   "metadata": {},
   "outputs": [
    {
     "data": {
      "text/html": [
       "<div>\n",
       "<style scoped>\n",
       "    .dataframe tbody tr th:only-of-type {\n",
       "        vertical-align: middle;\n",
       "    }\n",
       "\n",
       "    .dataframe tbody tr th {\n",
       "        vertical-align: top;\n",
       "    }\n",
       "\n",
       "    .dataframe thead th {\n",
       "        text-align: right;\n",
       "    }\n",
       "</style>\n",
       "<table border=\"1\" class=\"dataframe\">\n",
       "  <thead>\n",
       "    <tr style=\"text-align: right;\">\n",
       "      <th></th>\n",
       "      <th>Salary</th>\n",
       "      <th>Age</th>\n",
       "    </tr>\n",
       "  </thead>\n",
       "  <tbody>\n",
       "    <tr>\n",
       "      <th>0</th>\n",
       "      <td>1000000</td>\n",
       "      <td>85</td>\n",
       "    </tr>\n",
       "  </tbody>\n",
       "</table>\n",
       "</div>"
      ],
      "text/plain": [
       "    Salary  Age\n",
       "0  1000000   85"
      ]
     },
     "execution_count": 19,
     "metadata": {},
     "output_type": "execute_result"
    }
   ],
   "source": [
    "x"
   ]
  },
  {
   "cell_type": "code",
   "execution_count": 20,
   "id": "c977765f",
   "metadata": {},
   "outputs": [
    {
     "name": "stdout",
     "output_type": "stream",
     "text": [
      "200000.0\n"
     ]
    }
   ],
   "source": [
    "a=x.loc[0,\"Salary\"]\n",
    "b=x.loc[0,\"Age\"]\n",
    "if a<=250000 and b<=60:\n",
    "    tax=0\n",
    "if a>250000 and a<=500000 and b<=60:\n",
    "    tax=10/100*a\n",
    "if a>500000 and a<=1000000 and b<=60:\n",
    "    tax=20/100*a\n",
    "if a>1000000:\n",
    "    tax=30/100*a\n",
    "if a<=300000 and b>60 and b <=80:\n",
    "    tax=0\n",
    "if a<=300000 and a<=500000 and b>60 and b <=80:\n",
    "    tax=10/100*a\n",
    "if a<=500000 and a<=1000000 and b>60 and b <=80:\n",
    "    tax=20/100*a\n",
    "if a>1000000 and b>60 and b <=80:\n",
    "    tax=30/100*a      \n",
    "if a<=500000 and b>80:\n",
    "    tax=0\n",
    "if a>500000 and a<=1000000 and b>80:\n",
    "    tax=20/100*a\n",
    "if a>1000000 and b>80 and b<=100:\n",
    "    tax=30/100*a\n",
    "print(tax)    \n",
    "    \n",
    "    \n",
    "    \n",
    "    "
   ]
  },
  {
   "cell_type": "code",
   "execution_count": 30,
   "id": "2e14c448",
   "metadata": {},
   "outputs": [],
   "source": [
    "x=p.read_excel(\"income.xlsx\")"
   ]
  },
  {
   "cell_type": "code",
   "execution_count": 31,
   "id": "2604239a",
   "metadata": {},
   "outputs": [
    {
     "data": {
      "text/html": [
       "<div>\n",
       "<style scoped>\n",
       "    .dataframe tbody tr th:only-of-type {\n",
       "        vertical-align: middle;\n",
       "    }\n",
       "\n",
       "    .dataframe tbody tr th {\n",
       "        vertical-align: top;\n",
       "    }\n",
       "\n",
       "    .dataframe thead th {\n",
       "        text-align: right;\n",
       "    }\n",
       "</style>\n",
       "<table border=\"1\" class=\"dataframe\">\n",
       "  <thead>\n",
       "    <tr style=\"text-align: right;\">\n",
       "      <th></th>\n",
       "      <th>Salary</th>\n",
       "      <th>Age</th>\n",
       "      <th>hra</th>\n",
       "    </tr>\n",
       "  </thead>\n",
       "  <tbody>\n",
       "    <tr>\n",
       "      <th>0</th>\n",
       "      <td>1000000</td>\n",
       "      <td>85</td>\n",
       "      <td>150000</td>\n",
       "    </tr>\n",
       "  </tbody>\n",
       "</table>\n",
       "</div>"
      ],
      "text/plain": [
       "    Salary  Age     hra\n",
       "0  1000000   85  150000"
      ]
     },
     "execution_count": 31,
     "metadata": {},
     "output_type": "execute_result"
    }
   ],
   "source": [
    "x"
   ]
  },
  {
   "cell_type": "code",
   "execution_count": 39,
   "id": "d1d80a21",
   "metadata": {},
   "outputs": [
    {
     "name": "stdout",
     "output_type": "stream",
     "text": [
      "225000.0\n"
     ]
    }
   ],
   "source": [
    "a=x.loc[0,\"Salary\"]\n",
    "b=x.loc[0,\"Age\"]\n",
    "c=x.loc[0,\"hra\"]\n",
    "if a<=250000 and b<=60:\n",
    "    tax=0\n",
    "if a>250000 and a<=500000 and b<=60:\n",
    "    tax=10/100*a\n",
    "if a>500000 and a<=1000000 and b<=60:\n",
    "    tax=20/100*a\n",
    "if a>1000000:\n",
    "    tax=30/100*a\n",
    "if a<=300000 and b>60 and b <=80:\n",
    "    tax=0\n",
    "if a<=300000 and a<=500000 and b>60 and b <=80:\n",
    "    tax=10/100*a\n",
    "if a<=500000 and a<=1000000 and b>60 and b <=80:\n",
    "    tax=20/100*a\n",
    "if a>1000000 and b>60 and b <=80:\n",
    "    tax=30/100*a      \n",
    "if a<=500000 and b>80:\n",
    "    tax=0\n",
    "if a>500000 and a<=1000000 and b>80:\n",
    "    tax=20/100*a\n",
    "if a>1000000 and b>80 and b<=100:\n",
    "    tax=30/100*a\n",
    "if c<10/100*a:\n",
    "     hrat=0\n",
    "if c>10/100*(a):\n",
    "    hrat=(50/100)*(c-(10/100*(a)))\n",
    "\n",
    "t=hrat+tax\n",
    "print(t)\n",
    "\n",
    "    "
   ]
  },
  {
   "cell_type": "code",
   "execution_count": null,
   "id": "c3155639",
   "metadata": {},
   "outputs": [],
   "source": []
  }
 ],
 "metadata": {
  "kernelspec": {
   "display_name": "Python 3",
   "language": "python",
   "name": "python3"
  },
  "language_info": {
   "codemirror_mode": {
    "name": "ipython",
    "version": 3
   },
   "file_extension": ".py",
   "mimetype": "text/x-python",
   "name": "python",
   "nbconvert_exporter": "python",
   "pygments_lexer": "ipython3",
   "version": "3.8.8"
  }
 },
 "nbformat": 4,
 "nbformat_minor": 5
}
