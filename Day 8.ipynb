{
 "cells": [
  {
   "cell_type": "code",
   "execution_count": 1,
   "id": "78f3919d-a932-498f-9070-661c598d116b",
   "metadata": {},
   "outputs": [
    {
     "name": "stdout",
     "output_type": "stream",
     "text": [
      "enter usernameAaron\n",
      "username correct\n"
     ]
    }
   ],
   "source": [
    "x=input(\"enter username\")\n",
    "if x== \"Aaron\":\n",
    "    print(\"username correct\")\n",
    "else:\n",
    "    print(\"username incorrect\")\n"
   ]
  },
  {
   "cell_type": "code",
   "execution_count": 2,
   "id": "a1a5265a-8cb4-4509-afe3-9dd11d7c9cbb",
   "metadata": {},
   "outputs": [
    {
     "name": "stdout",
     "output_type": "stream",
     "text": [
      "enter your income in lakhs2\n",
      "base tax\n"
     ]
    }
   ],
   "source": [
    "income=int(input(\"enter your income in lakhs\"))\n",
    "if((income>=2) and (income<=5)):\n",
    "    print(\"base tax\")\n",
    "else:\n",
    "    print(\"special tax rate\")"
   ]
  },
  {
   "cell_type": "code",
   "execution_count": 3,
   "id": "3931c155-c194-4ba8-94b7-3a600c17366b",
   "metadata": {},
   "outputs": [
    {
     "name": "stdout",
     "output_type": "stream",
     "text": [
      "enter your income2\n",
      "taxrate is 5%\n"
     ]
    }
   ],
   "source": [
    "income=int(input(\"enter your income\"))\n",
    "if((income>=2) and (income<=50)):\n",
    "    print( \"taxrate is 5%\")\n",
    "else:\n",
    "    print(\"tax rateis 10%\")"
   ]
  },
  {
   "cell_type": "code",
   "execution_count": 4,
   "id": "43c11651-6778-4817-bc52-21e363ede483",
   "metadata": {},
   "outputs": [
    {
     "name": "stdout",
     "output_type": "stream",
     "text": [
      "base price100\n",
      "enter the slab value2\n",
      "enter road development cess2\n",
      "enter the road tax2\n",
      "enter economic cess2\n",
      "enter vat2\n",
      "110.0\n"
     ]
    }
   ],
   "source": [
    "x=int(input(\"base price\"))\n",
    "gst=int(input(\"enter the slab value\"))\n",
    "y=int(input(\"enter road development cess\"))\n",
    "z=int(input(\"enter the road tax\"))\n",
    "f=int(input(\"enter economic cess\"))\n",
    "b=int(input(\"enter vat\"))\n",
    "price=x+(gst+y+z+f+b)*x/100\n",
    "print(price)"
   ]
  },
  {
   "cell_type": "code",
   "execution_count": 5,
   "id": "6c10dcef-63fd-4413-811a-55c55e610abf",
   "metadata": {},
   "outputs": [
    {
     "name": "stdout",
     "output_type": "stream",
     "text": [
      "base price100\n",
      "enter the slab value2\n",
      "enter road development cess2\n",
      "enter the road tax2\n",
      "enter economic cess2\n",
      "enter vat2\n",
      "110.0\n"
     ]
    }
   ],
   "source": [
    "x=int(input(\"base price\"))\n",
    "gst=int(input(\"enter the slab value\"))\n",
    "if gst== 1:\n",
    "    rate=0\n",
    "if gst==2:\n",
    "    rate=5\n",
    "if gst==3:\n",
    "    rate=12\n",
    "if gst==4:\n",
    "    rate=18\n",
    "if gst==5:\n",
    "    rate=28\n",
    "y=int(input(\"enter road development cess\"))\n",
    "z=int(input(\"enter the road tax\"))\n",
    "f=int(input(\"enter economic cess\"))\n",
    "b=int(input(\"enter vat\"))\n",
    "price=x+(gst+y+z+f+b)*x/100\n",
    "print(price)"
   ]
  },
  {
   "cell_type": "code",
   "execution_count": null,
   "id": "e44f0496-9fdb-433f-9e11-4382dba466b8",
   "metadata": {},
   "outputs": [],
   "source": [
    "\n",
    "    \n",
    "    \n"
   ]
  }
 ],
 "metadata": {
  "kernelspec": {
   "display_name": "Python 3",
   "language": "python",
   "name": "python3"
  },
  "language_info": {
   "codemirror_mode": {
    "name": "ipython",
    "version": 3
   },
   "file_extension": ".py",
   "mimetype": "text/x-python",
   "name": "python",
   "nbconvert_exporter": "python",
   "pygments_lexer": "ipython3",
   "version": "3.8.8"
  }
 },
 "nbformat": 4,
 "nbformat_minor": 5
}
