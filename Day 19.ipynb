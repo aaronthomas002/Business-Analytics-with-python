{
 "cells": [
  {
   "cell_type": "code",
   "execution_count": 24,
   "id": "f21690d7",
   "metadata": {},
   "outputs": [],
   "source": [
    "import numpy as np"
   ]
  },
  {
   "cell_type": "code",
   "execution_count": 27,
   "id": "28f11d70",
   "metadata": {},
   "outputs": [],
   "source": [
    "x =np.array([1,2,3,4,5])\n",
    "y =np.array([7,14,15,18,21])"
   ]
  },
  {
   "cell_type": "code",
   "execution_count": 36,
   "id": "6dc16eb2",
   "metadata": {},
   "outputs": [
    {
     "name": "stdout",
     "output_type": "stream",
     "text": [
      "3.0\n"
     ]
    }
   ],
   "source": [
    "xdash=np.mean(x)\n",
    "print(xdash)"
   ]
  },
  {
   "cell_type": "code",
   "execution_count": 37,
   "id": "9ffa9787",
   "metadata": {},
   "outputs": [
    {
     "name": "stdout",
     "output_type": "stream",
     "text": [
      "15.0\n"
     ]
    }
   ],
   "source": [
    "ydash=np.mean(y)\n",
    "print(ydash)"
   ]
  },
  {
   "cell_type": "code",
   "execution_count": 38,
   "id": "9bca215c",
   "metadata": {},
   "outputs": [
    {
     "name": "stdout",
     "output_type": "stream",
     "text": [
      "[-2. -1.  0.  1.  2.]\n"
     ]
    }
   ],
   "source": [
    "A=x-xdash\n",
    "print(A)"
   ]
  },
  {
   "cell_type": "code",
   "execution_count": 39,
   "id": "9e686608",
   "metadata": {},
   "outputs": [
    {
     "name": "stdout",
     "output_type": "stream",
     "text": [
      "[-8. -1.  0.  3.  6.]\n"
     ]
    }
   ],
   "source": [
    "B=y-ydash\n",
    "print(B)"
   ]
  },
  {
   "cell_type": "code",
   "execution_count": 41,
   "id": "81527f82",
   "metadata": {},
   "outputs": [
    {
     "name": "stdout",
     "output_type": "stream",
     "text": [
      "[16.  1.  0.  3. 12.]\n"
     ]
    }
   ],
   "source": [
    "C=A*B\n",
    "print(C)"
   ]
  },
  {
   "cell_type": "code",
   "execution_count": 42,
   "id": "3fd727f6",
   "metadata": {},
   "outputs": [],
   "source": [
    "D=sum(C)"
   ]
  },
  {
   "cell_type": "code",
   "execution_count": 43,
   "id": "2b772e10",
   "metadata": {},
   "outputs": [],
   "source": [
    "E=(x-xdash)*(x-xdash)"
   ]
  },
  {
   "cell_type": "code",
   "execution_count": 44,
   "id": "90b8f546",
   "metadata": {},
   "outputs": [],
   "source": [
    "F=sum(E)"
   ]
  },
  {
   "cell_type": "code",
   "execution_count": 47,
   "id": "c5d7d6f0",
   "metadata": {},
   "outputs": [
    {
     "name": "stdout",
     "output_type": "stream",
     "text": [
      "3.2\n"
     ]
    }
   ],
   "source": [
    "M=D/F\n",
    "print(M)"
   ]
  },
  {
   "cell_type": "code",
   "execution_count": 49,
   "id": "12e1f370",
   "metadata": {},
   "outputs": [],
   "source": [
    "c=ydash-M*xdash"
   ]
  },
  {
   "cell_type": "code",
   "execution_count": 50,
   "id": "c8f42379",
   "metadata": {},
   "outputs": [
    {
     "data": {
      "text/plain": [
       "5.399999999999999"
      ]
     },
     "execution_count": 50,
     "metadata": {},
     "output_type": "execute_result"
    }
   ],
   "source": [
    "c"
   ]
  },
  {
   "cell_type": "code",
   "execution_count": 51,
   "id": "458a426f",
   "metadata": {},
   "outputs": [],
   "source": [
    "Yn=M*x+c"
   ]
  },
  {
   "cell_type": "code",
   "execution_count": 52,
   "id": "df2de9c4",
   "metadata": {},
   "outputs": [
    {
     "data": {
      "text/plain": [
       "array([ 8.6, 11.8, 15. , 18.2, 21.4])"
      ]
     },
     "execution_count": 52,
     "metadata": {},
     "output_type": "execute_result"
    }
   ],
   "source": [
    "Yn"
   ]
  },
  {
   "cell_type": "code",
   "execution_count": 53,
   "id": "bb9b5728",
   "metadata": {},
   "outputs": [],
   "source": [
    "import matplotlib.pyplot as plt"
   ]
  },
  {
   "cell_type": "code",
   "execution_count": 55,
   "id": "4b293a42",
   "metadata": {},
   "outputs": [
    {
     "data": {
      "text/plain": [
       "[<matplotlib.lines.Line2D at 0x22fc68397f0>]"
      ]
     },
     "execution_count": 55,
     "metadata": {},
     "output_type": "execute_result"
    },
    {
     "data": {
      "image/png": "[encoded data removed]",
      "text/plain": [
       "<Figure size 432x288 with 1 Axes>"
      ]
     },
     "metadata": {
      "needs_background": "light"
     },
     "output_type": "display_data"
    }
   ],
   "source": [
    "plt.scatter(x,y)\n",
    "plt.plot(x,Yn)"
   ]
  },
  {
   "cell_type": "code",
   "execution_count": null,
   "id": "8671b6b6",
   "metadata": {},
   "outputs": [],
   "source": []
  }
 ],
 "metadata": {
  "kernelspec": {
   "display_name": "Python 3",
   "language": "python",
   "name": "python3"
  },
  "language_info": {
   "codemirror_mode": {
    "name": "ipython",
    "version": 3
   },
   "file_extension": ".py",
   "mimetype": "text/x-python",
   "name": "python",
   "nbconvert_exporter": "python",
   "pygments_lexer": "ipython3",
   "version": "3.8.8"
  }
 },
 "nbformat": 4,
 "nbformat_minor": 5
}
