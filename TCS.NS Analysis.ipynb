{
 "cells": [
  {
   "cell_type": "code",
   "execution_count": 1,
   "id": "7e0d871f",
   "metadata": {},
   "outputs": [],
   "source": [
    "import pandas as pd"
   ]
  },
  {
   "cell_type": "code",
   "execution_count": 8,
   "id": "476d53ff",
   "metadata": {},
   "outputs": [],
   "source": [
    "df=pd.read_csv(\"TCS.NS.csv\")"
   ]
  },
  {
   "cell_type": "code",
   "execution_count": 9,
   "id": "f2b4a031",
   "metadata": {},
   "outputs": [
    {
     "data": {
      "text/html": [
       "<div>\n",
       "<style scoped>\n",
       "    .dataframe tbody tr th:only-of-type {\n",
       "        vertical-align: middle;\n",
       "    }\n",
       "\n",
       "    .dataframe tbody tr th {\n",
       "        vertical-align: top;\n",
       "    }\n",
       "\n",
       "    .dataframe thead th {\n",
       "        text-align: right;\n",
       "    }\n",
       "</style>\n",
       "<table border=\"1\" class=\"dataframe\">\n",
       "  <thead>\n",
       "    <tr style=\"text-align: right;\">\n",
       "      <th></th>\n",
       "      <th>Date</th>\n",
       "      <th>Open</th>\n",
       "    </tr>\n",
       "  </thead>\n",
       "  <tbody>\n",
       "    <tr>\n",
       "      <th>0</th>\n",
       "      <td>1</td>\n",
       "      <td>3250.000000</td>\n",
       "    </tr>\n",
       "    <tr>\n",
       "      <th>1</th>\n",
       "      <td>2</td>\n",
       "      <td>3233.000000</td>\n",
       "    </tr>\n",
       "    <tr>\n",
       "      <th>2</th>\n",
       "      <td>3</td>\n",
       "      <td>3270.000000</td>\n",
       "    </tr>\n",
       "    <tr>\n",
       "      <th>3</th>\n",
       "      <td>4</td>\n",
       "      <td>3305.000000</td>\n",
       "    </tr>\n",
       "    <tr>\n",
       "      <th>4</th>\n",
       "      <td>5</td>\n",
       "      <td>3241.899902</td>\n",
       "    </tr>\n",
       "    <tr>\n",
       "      <th>...</th>\n",
       "      <td>...</td>\n",
       "      <td>...</td>\n",
       "    </tr>\n",
       "    <tr>\n",
       "      <th>243</th>\n",
       "      <td>244</td>\n",
       "      <td>3856.000000</td>\n",
       "    </tr>\n",
       "    <tr>\n",
       "      <th>244</th>\n",
       "      <td>245</td>\n",
       "      <td>3925.000000</td>\n",
       "    </tr>\n",
       "    <tr>\n",
       "      <th>245</th>\n",
       "      <td>246</td>\n",
       "      <td>3918.000000</td>\n",
       "    </tr>\n",
       "    <tr>\n",
       "      <th>246</th>\n",
       "      <td>247</td>\n",
       "      <td>3877.850098</td>\n",
       "    </tr>\n",
       "    <tr>\n",
       "      <th>247</th>\n",
       "      <td>248</td>\n",
       "      <td>3992.699951</td>\n",
       "    </tr>\n",
       "  </tbody>\n",
       "</table>\n",
       "<p>248 rows × 2 columns</p>\n",
       "</div>"
      ],
      "text/plain": [
       "     Date         Open\n",
       "0       1  3250.000000\n",
       "1       2  3233.000000\n",
       "2       3  3270.000000\n",
       "3       4  3305.000000\n",
       "4       5  3241.899902\n",
       "..    ...          ...\n",
       "243   244  3856.000000\n",
       "244   245  3925.000000\n",
       "245   246  3918.000000\n",
       "246   247  3877.850098\n",
       "247   248  3992.699951\n",
       "\n",
       "[248 rows x 2 columns]"
      ]
     },
     "execution_count": 9,
     "metadata": {},
     "output_type": "execute_result"
    }
   ],
   "source": [
    "df"
   ]
  },
  {
   "cell_type": "code",
   "execution_count": 10,
   "id": "c22e3d2d",
   "metadata": {},
   "outputs": [],
   "source": [
    "x=df.iloc[:, :-1].values\n",
    "y=df.iloc[:, -1].values"
   ]
  },
  {
   "cell_type": "code",
   "execution_count": 11,
   "id": "23c3c5cd",
   "metadata": {},
   "outputs": [],
   "source": [
    "from sklearn.linear_model import LinearRegression"
   ]
  },
  {
   "cell_type": "code",
   "execution_count": 12,
   "id": "f457a6bb",
   "metadata": {},
   "outputs": [],
   "source": [
    "regressor=LinearRegression()"
   ]
  },
  {
   "cell_type": "code",
   "execution_count": 13,
   "id": "c4b2be93",
   "metadata": {},
   "outputs": [
    {
     "data": {
      "text/plain": [
       "LinearRegression()"
      ]
     },
     "execution_count": 13,
     "metadata": {},
     "output_type": "execute_result"
    }
   ],
   "source": [
    "regressor.fit(x,y)"
   ]
  },
  {
   "cell_type": "code",
   "execution_count": 14,
   "id": "461bfd87",
   "metadata": {},
   "outputs": [],
   "source": [
    "y_pred=regressor.predict(x)"
   ]
  },
  {
   "cell_type": "code",
   "execution_count": 15,
   "id": "a5cdd025",
   "metadata": {},
   "outputs": [
    {
     "data": {
      "text/plain": [
       "array([3006.13980045, 3009.24398061, 3012.34816076, 3015.45234091,\n",
       "       3018.55652107, 3021.66070122, 3024.76488137, 3027.86906153,\n",
       "       3030.97324168, 3034.07742183, 3037.18160199, 3040.28578214,\n",
       "       3043.38996229, 3046.49414244, 3049.5983226 , 3052.70250275,\n",
       "       3055.8066829 , 3058.91086306, 3062.01504321, 3065.11922336,\n",
       "       3068.22340352, 3071.32758367, 3074.43176382, 3077.53594398,\n",
       "       3080.64012413, 3083.74430428, 3086.84848444, 3089.95266459,\n",
       "       3093.05684474, 3096.1610249 , 3099.26520505, 3102.3693852 ,\n",
       "       3105.47356536, 3108.57774551, 3111.68192566, 3114.78610582,\n",
       "       3117.89028597, 3120.99446612, 3124.09864628, 3127.20282643,\n",
       "       3130.30700658, 3133.41118673, 3136.51536689, 3139.61954704,\n",
       "       3142.72372719, 3145.82790735, 3148.9320875 , 3152.03626765,\n",
       "       3155.14044781, 3158.24462796, 3161.34880811, 3164.45298827,\n",
       "       3167.55716842, 3170.66134857, 3173.76552873, 3176.86970888,\n",
       "       3179.97388903, 3183.07806919, 3186.18224934, 3189.28642949,\n",
       "       3192.39060965, 3195.4947898 , 3198.59896995, 3201.70315011,\n",
       "       3204.80733026, 3207.91151041, 3211.01569057, 3214.11987072,\n",
       "       3217.22405087, 3220.32823102, 3223.43241118, 3226.53659133,\n",
       "       3229.64077148, 3232.74495164, 3235.84913179, 3238.95331194,\n",
       "       3242.0574921 , 3245.16167225, 3248.2658524 , 3251.37003256,\n",
       "       3254.47421271, 3257.57839286, 3260.68257302, 3263.78675317,\n",
       "       3266.89093332, 3269.99511348, 3273.09929363, 3276.20347378,\n",
       "       3279.30765394, 3282.41183409, 3285.51601424, 3288.6201944 ,\n",
       "       3291.72437455, 3294.8285547 , 3297.93273486, 3301.03691501,\n",
       "       3304.14109516, 3307.24527531, 3310.34945547, 3313.45363562,\n",
       "       3316.55781577, 3319.66199593, 3322.76617608, 3325.87035623,\n",
       "       3328.97453639, 3332.07871654, 3335.18289669, 3338.28707685,\n",
       "       3341.391257  , 3344.49543715, 3347.59961731, 3350.70379746,\n",
       "       3353.80797761, 3356.91215777, 3360.01633792, 3363.12051807,\n",
       "       3366.22469823, 3369.32887838, 3372.43305853, 3375.53723869,\n",
       "       3378.64141884, 3381.74559899, 3384.84977915, 3387.9539593 ,\n",
       "       3391.05813945, 3394.1623196 , 3397.26649976, 3400.37067991,\n",
       "       3403.47486006, 3406.57904022, 3409.68322037, 3412.78740052,\n",
       "       3415.89158068, 3418.99576083, 3422.09994098, 3425.20412114,\n",
       "       3428.30830129, 3431.41248144, 3434.5166616 , 3437.62084175,\n",
       "       3440.7250219 , 3443.82920206, 3446.93338221, 3450.03756236,\n",
       "       3453.14174252, 3456.24592267, 3459.35010282, 3462.45428298,\n",
       "       3465.55846313, 3468.66264328, 3471.76682344, 3474.87100359,\n",
       "       3477.97518374, 3481.07936389, 3484.18354405, 3487.2877242 ,\n",
       "       3490.39190435, 3493.49608451, 3496.60026466, 3499.70444481,\n",
       "       3502.80862497, 3505.91280512, 3509.01698527, 3512.12116543,\n",
       "       3515.22534558, 3518.32952573, 3521.43370589, 3524.53788604,\n",
       "       3527.64206619, 3530.74624635, 3533.8504265 , 3536.95460665,\n",
       "       3540.05878681, 3543.16296696, 3546.26714711, 3549.37132727,\n",
       "       3552.47550742, 3555.57968757, 3558.68386773, 3561.78804788,\n",
       "       3564.89222803, 3567.99640818, 3571.10058834, 3574.20476849,\n",
       "       3577.30894864, 3580.4131288 , 3583.51730895, 3586.6214891 ,\n",
       "       3589.72566926, 3592.82984941, 3595.93402956, 3599.03820972,\n",
       "       3602.14238987, 3605.24657002, 3608.35075018, 3611.45493033,\n",
       "       3614.55911048, 3617.66329064, 3620.76747079, 3623.87165094,\n",
       "       3626.9758311 , 3630.08001125, 3633.1841914 , 3636.28837156,\n",
       "       3639.39255171, 3642.49673186, 3645.60091202, 3648.70509217,\n",
       "       3651.80927232, 3654.91345247, 3658.01763263, 3661.12181278,\n",
       "       3664.22599293, 3667.33017309, 3670.43435324, 3673.53853339,\n",
       "       3676.64271355, 3679.7468937 , 3682.85107385, 3685.95525401,\n",
       "       3689.05943416, 3692.16361431, 3695.26779447, 3698.37197462,\n",
       "       3701.47615477, 3704.58033493, 3707.68451508, 3710.78869523,\n",
       "       3713.89287539, 3716.99705554, 3720.10123569, 3723.20541585,\n",
       "       3726.309596  , 3729.41377615, 3732.51795631, 3735.62213646,\n",
       "       3738.72631661, 3741.83049676, 3744.93467692, 3748.03885707,\n",
       "       3751.14303722, 3754.24721738, 3757.35139753, 3760.45557768,\n",
       "       3763.55975784, 3766.66393799, 3769.76811814, 3772.8722983 ])"
      ]
     },
     "execution_count": 15,
     "metadata": {},
     "output_type": "execute_result"
    }
   ],
   "source": [
    "y_pred"
   ]
  },
  {
   "cell_type": "code",
   "execution_count": 16,
   "id": "80e600a0",
   "metadata": {},
   "outputs": [],
   "source": [
    "import matplotlib.pyplot as plt"
   ]
  },
  {
   "cell_type": "code",
   "execution_count": 17,
   "id": "56785d93",
   "metadata": {},
   "outputs": [
    {
     "data": {
      "text/plain": [
       "<matplotlib.collections.PathCollection at 0x229d0534c10>"
      ]
     },
     "execution_count": 17,
     "metadata": {},
     "output_type": "execute_result"
    },
    {
     "data": {
      "image/png": "[encoded data removed]",
      "text/plain": [
       "<Figure size 432x288 with 1 Axes>"
      ]
     },
     "metadata": {
      "needs_background": "light"
     },
     "output_type": "display_data"
    }
   ],
   "source": [
    "plt.plot(x,y_pred)\n",
    "plt.scatter(x,y)"
   ]
  },
  {
   "cell_type": "code",
   "execution_count": 18,
   "id": "2369659b",
   "metadata": {},
   "outputs": [],
   "source": [
    "from sklearn.linear_model import LinearRegression\n",
    "from sklearn.preprocessing import PolynomialFeatures"
   ]
  },
  {
   "cell_type": "code",
   "execution_count": 19,
   "id": "98f06f51",
   "metadata": {},
   "outputs": [],
   "source": [
    "poly_reg=PolynomialFeatures(degree=4)"
   ]
  },
  {
   "cell_type": "code",
   "execution_count": 20,
   "id": "6b38d70e",
   "metadata": {},
   "outputs": [],
   "source": [
    "x_poly=poly_reg.fit_transform(x)"
   ]
  },
  {
   "cell_type": "code",
   "execution_count": 21,
   "id": "1e0d6ef2",
   "metadata": {},
   "outputs": [],
   "source": [
    "regressor=LinearRegression()"
   ]
  },
  {
   "cell_type": "code",
   "execution_count": 22,
   "id": "1593b175",
   "metadata": {},
   "outputs": [
    {
     "data": {
      "text/plain": [
       "LinearRegression()"
      ]
     },
     "execution_count": 22,
     "metadata": {},
     "output_type": "execute_result"
    }
   ],
   "source": [
    "regressor.fit(x_poly,y)"
   ]
  },
  {
   "cell_type": "code",
   "execution_count": 24,
   "id": "23f34bd3",
   "metadata": {},
   "outputs": [],
   "source": [
    "y_pred=regressor.predict(x_poly)"
   ]
  },
  {
   "cell_type": "code",
   "execution_count": 25,
   "id": "e873776e",
   "metadata": {},
   "outputs": [],
   "source": [
    "import matplotlib.pyplot as plt"
   ]
  },
  {
   "cell_type": "code",
   "execution_count": 26,
   "id": "90b7d91f",
   "metadata": {},
   "outputs": [
    {
     "data": {
      "text/plain": [
       "<matplotlib.collections.PathCollection at 0x229d06384f0>"
      ]
     },
     "execution_count": 26,
     "metadata": {},
     "output_type": "execute_result"
    },
    {
     "data": {
      "image/png": "[encoded data removed]",
      "text/plain": [
       "<Figure size 432x288 with 1 Axes>"
      ]
     },
     "metadata": {
      "needs_background": "light"
     },
     "output_type": "display_data"
    }
   ],
   "source": [
    "plt.plot(x,y_pred,color='blue')\n",
    "plt.scatter(x,y,color='red')"
   ]
  },
  {
   "cell_type": "code",
   "execution_count": 27,
   "id": "daf03fc7",
   "metadata": {},
   "outputs": [],
   "source": [
    "from sklearn.model_selection import train_test_split"
   ]
  },
  {
   "cell_type": "code",
   "execution_count": 28,
   "id": "fbd7698b",
   "metadata": {},
   "outputs": [],
   "source": [
    "x_train,x_test,y_train,y_test=train_test_split(x,y,test_size=0.2, random_state=1)"
   ]
  },
  {
   "cell_type": "code",
   "execution_count": 29,
   "id": "50b5e2c5",
   "metadata": {},
   "outputs": [
    {
     "data": {
      "text/plain": [
       "LinearRegression()"
      ]
     },
     "execution_count": 29,
     "metadata": {},
     "output_type": "execute_result"
    }
   ],
   "source": [
    "from sklearn.linear_model import LinearRegression\n",
    "regressor=LinearRegression()\n",
    "regressor.fit(x_train,y_train)"
   ]
  },
  {
   "cell_type": "code",
   "execution_count": 30,
   "id": "6dcb1262",
   "metadata": {},
   "outputs": [],
   "source": [
    "y_pred=regressor.predict(x_test)"
   ]
  },
  {
   "cell_type": "code",
   "execution_count": 31,
   "id": "1fb18f07",
   "metadata": {},
   "outputs": [
    {
     "data": {
      "text/plain": [
       "[<matplotlib.lines.Line2D at 0x229d0699b80>]"
      ]
     },
     "execution_count": 31,
     "metadata": {},
     "output_type": "execute_result"
    },
    {
     "data": {
      "image/png": "[encoded data removed]",
      "text/plain": [
       "<Figure size 432x288 with 1 Axes>"
      ]
     },
     "metadata": {
      "needs_background": "light"
     },
     "output_type": "display_data"
    }
   ],
   "source": [
    "plt.scatter(x_test,y_test,color='red')\n",
    "plt.scatter(x_train,y_train,color='green')\n",
    "plt.plot(x_test,y_pred,color='blue')\n",
    "\n"
   ]
  },
  {
   "cell_type": "code",
   "execution_count": null,
   "id": "4271c807",
   "metadata": {},
   "outputs": [],
   "source": []
  }
 ],
 "metadata": {
  "kernelspec": {
   "display_name": "Python 3",
   "language": "python",
   "name": "python3"
  },
  "language_info": {
   "codemirror_mode": {
    "name": "ipython",
    "version": 3
   },
   "file_extension": ".py",
   "mimetype": "text/x-python",
   "name": "python",
   "nbconvert_exporter": "python",
   "pygments_lexer": "ipython3",
   "version": "3.8.8"
  }
 },
 "nbformat": 4,
 "nbformat_minor": 5
}
