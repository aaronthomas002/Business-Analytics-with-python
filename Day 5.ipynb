{
 "cells": [
  {
   "cell_type": "code",
   "execution_count": 1,
   "id": "b4be8843",
   "metadata": {},
   "outputs": [
    {
     "data": {
      "text/plain": [
       "300"
      ]
     },
     "execution_count": 1,
     "metadata": {},
     "output_type": "execute_result"
    }
   ],
   "source": [
    "xx=100\n",
    "xy=200\n",
    "xx+xy"
   ]
  },
  {
   "cell_type": "code",
   "execution_count": 2,
   "id": "ae4ae5e4",
   "metadata": {},
   "outputs": [
    {
     "data": {
      "text/plain": [
       "600"
      ]
     },
     "execution_count": 2,
     "metadata": {},
     "output_type": "execute_result"
    }
   ],
   "source": [
    "aaron=100\n",
    "shravan=200\n",
    "richard=300\n",
    "aaron+shravan+richard"
   ]
  },
  {
   "cell_type": "code",
   "execution_count": 3,
   "id": "f34607c5",
   "metadata": {},
   "outputs": [],
   "source": [
    "print=100"
   ]
  },
  {
   "cell_type": "code",
   "execution_count": 4,
   "id": "85eb74a8",
   "metadata": {},
   "outputs": [
    {
     "ename": "TypeError",
     "evalue": "'int' object is not callable",
     "output_type": "error",
     "traceback": [
      "\u001b[1;31m---------------------------------------------------------------------------\u001b[0m",
      "\u001b[1;31mTypeError\u001b[0m                                 Traceback (most recent call last)",
      "\u001b[1;32m<ipython-input-4-2223c92d0779>\u001b[0m in \u001b[0;36m<module>\u001b[1;34m\u001b[0m\n\u001b[1;32m----> 1\u001b[1;33m \u001b[0mprint\u001b[0m\u001b[1;33m(\u001b[0m\u001b[0mprint\u001b[0m\u001b[1;33m)\u001b[0m\u001b[1;33m\u001b[0m\u001b[1;33m\u001b[0m\u001b[0m\n\u001b[0m",
      "\u001b[1;31mTypeError\u001b[0m: 'int' object is not callable"
     ]
    }
   ],
   "source": [
    "print(print)"
   ]
  },
  {
   "cell_type": "code",
   "execution_count": null,
   "id": "395a28c8",
   "metadata": {},
   "outputs": [],
   "source": [
    "ABC=10\n",
    "Abc=10\n",
    "aBc=10\n",
    "abC=10\n",
    "\n"
   ]
  },
  {
   "cell_type": "code",
   "execution_count": null,
   "id": "3de21c9f",
   "metadata": {},
   "outputs": [],
   "source": [
    "1abc=0"
   ]
  },
  {
   "cell_type": "code",
   "execution_count": null,
   "id": "6e5ddbb0",
   "metadata": {},
   "outputs": [],
   "source": [
    "abc1=0"
   ]
  },
  {
   "cell_type": "code",
   "execution_count": null,
   "id": "4f2c12fe",
   "metadata": {},
   "outputs": [],
   "source": [
    "#1abc=10"
   ]
  },
  {
   "cell_type": "code",
   "execution_count": null,
   "id": "d96c5609",
   "metadata": {},
   "outputs": [],
   "source": [
    "*1bbc=10"
   ]
  },
  {
   "cell_type": "code",
   "execution_count": null,
   "id": "f28ddad5",
   "metadata": {},
   "outputs": [],
   "source": [
    "a b=10"
   ]
  },
  {
   "cell_type": "code",
   "execution_count": 6,
   "id": "9e812a6c",
   "metadata": {},
   "outputs": [],
   "source": [
    "x, y, z =\"Aaron\", \"Shravan\", \"Richard\""
   ]
  },
  {
   "cell_type": "code",
   "execution_count": 7,
   "id": "9ff2f749",
   "metadata": {},
   "outputs": [
    {
     "data": {
      "text/plain": [
       "'Aaron'"
      ]
     },
     "execution_count": 7,
     "metadata": {},
     "output_type": "execute_result"
    }
   ],
   "source": [
    "x"
   ]
  },
  {
   "cell_type": "code",
   "execution_count": 8,
   "id": "36384229",
   "metadata": {},
   "outputs": [
    {
     "data": {
      "text/plain": [
       "'Shravan'"
      ]
     },
     "execution_count": 8,
     "metadata": {},
     "output_type": "execute_result"
    }
   ],
   "source": [
    "y"
   ]
  },
  {
   "cell_type": "code",
   "execution_count": 9,
   "id": "7b93afbc",
   "metadata": {},
   "outputs": [
    {
     "ename": "TypeError",
     "evalue": "'int' object is not callable",
     "output_type": "error",
     "traceback": [
      "\u001b[1;31m---------------------------------------------------------------------------\u001b[0m",
      "\u001b[1;31mTypeError\u001b[0m                                 Traceback (most recent call last)",
      "\u001b[1;32m<ipython-input-9-c01ac3f50fdc>\u001b[0m in \u001b[0;36m<module>\u001b[1;34m\u001b[0m\n\u001b[1;32m----> 1\u001b[1;33m \u001b[0mprint\u001b[0m\u001b[1;33m(\u001b[0m\u001b[0mz\u001b[0m\u001b[1;33m)\u001b[0m\u001b[1;33m\u001b[0m\u001b[1;33m\u001b[0m\u001b[0m\n\u001b[0m",
      "\u001b[1;31mTypeError\u001b[0m: 'int' object is not callable"
     ]
    }
   ],
   "source": [
    "print(z)"
   ]
  },
  {
   "cell_type": "code",
   "execution_count": 10,
   "id": "4eb92960",
   "metadata": {},
   "outputs": [
    {
     "data": {
      "text/plain": [
       "'Richard'"
      ]
     },
     "execution_count": 10,
     "metadata": {},
     "output_type": "execute_result"
    }
   ],
   "source": [
    "z"
   ]
  },
  {
   "cell_type": "code",
   "execution_count": 11,
   "id": "54bb7982",
   "metadata": {},
   "outputs": [],
   "source": [
    "import math as mt"
   ]
  },
  {
   "cell_type": "code",
   "execution_count": 12,
   "id": "f0ac4612",
   "metadata": {},
   "outputs": [
    {
     "data": {
      "text/plain": [
       "3.141592653589793"
      ]
     },
     "execution_count": 12,
     "metadata": {},
     "output_type": "execute_result"
    }
   ],
   "source": [
    "mt.pi"
   ]
  },
  {
   "cell_type": "code",
   "execution_count": 14,
   "id": "85aaf94c",
   "metadata": {},
   "outputs": [
    {
     "data": {
      "text/plain": [
       "1.0"
      ]
     },
     "execution_count": 14,
     "metadata": {},
     "output_type": "execute_result"
    }
   ],
   "source": [
    "mt.cos(0)"
   ]
  },
  {
   "cell_type": "code",
   "execution_count": 21,
   "id": "1955f6ef",
   "metadata": {},
   "outputs": [
    {
     "data": {
      "text/plain": [
       "1.0"
      ]
     },
     "execution_count": 21,
     "metadata": {},
     "output_type": "execute_result"
    }
   ],
   "source": [
    "mt.sin(mt.pi/2)"
   ]
  },
  {
   "cell_type": "code",
   "execution_count": 22,
   "id": "b58c6659",
   "metadata": {},
   "outputs": [],
   "source": [
    "import math as a"
   ]
  },
  {
   "cell_type": "code",
   "execution_count": 23,
   "id": "aa37d424",
   "metadata": {},
   "outputs": [
    {
     "data": {
      "text/plain": [
       "1.0"
      ]
     },
     "execution_count": 23,
     "metadata": {},
     "output_type": "execute_result"
    }
   ],
   "source": [
    "a.sin(a.pi/2)"
   ]
  },
  {
   "cell_type": "code",
   "execution_count": 4,
   "id": "44fd3f78",
   "metadata": {},
   "outputs": [
    {
     "name": "stdout",
     "output_type": "stream",
     "text": [
      " Enter the first no.45\n",
      "Calculation4\n",
      "3.8066624897703196\n"
     ]
    }
   ],
   "source": [
    "import math as a\n",
    "x=int(input(\" Enter the first no.\"))\n",
    "z=int(input(\"Calculation\"))\n",
    "if z==1:\n",
    "    A=a.sin(x)\n",
    "    print(A)\n",
    "if z==2:\n",
    "    A=a.cos(x)\n",
    "    print(A)\n",
    "if z==3:\n",
    "    A=a.tan(x)\n",
    "    print(A)\n",
    "if z==4:\n",
    "    A=a.log(x)\n",
    "    print(A)\n",
    "\n",
    "\n",
    "\n"
   ]
  },
  {
   "cell_type": "code",
   "execution_count": 11,
   "id": "5e7f4fca",
   "metadata": {},
   "outputs": [],
   "source": [
    "def sarin(x):\n",
    "    print(\"sq of x=\", x*x)"
   ]
  },
  {
   "cell_type": "code",
   "execution_count": 13,
   "id": "7a59cbdc",
   "metadata": {},
   "outputs": [
    {
     "name": "stdout",
     "output_type": "stream",
     "text": [
      "sq of x= 9\n"
     ]
    }
   ],
   "source": [
    "sarin(x)"
   ]
  },
  {
   "cell_type": "code",
   "execution_count": 14,
   "id": "7c66c618",
   "metadata": {},
   "outputs": [
    {
     "name": "stdout",
     "output_type": "stream",
     "text": [
      "enter sum number:3\n",
      "sq of x= 9\n"
     ]
    }
   ],
   "source": [
    "x=int(input(\"enter sum number:\"))\n",
    "sarin(x)"
   ]
  },
  {
   "cell_type": "code",
   "execution_count": null,
   "id": "2ebf1075",
   "metadata": {},
   "outputs": [],
   "source": []
  }
 ],
 "metadata": {
  "kernelspec": {
   "display_name": "Python 3",
   "language": "python",
   "name": "python3"
  },
  "language_info": {
   "codemirror_mode": {
    "name": "ipython",
    "version": 3
   },
   "file_extension": ".py",
   "mimetype": "text/x-python",
   "name": "python",
   "nbconvert_exporter": "python",
   "pygments_lexer": "ipython3",
   "version": "3.8.8"
  }
 },
 "nbformat": 4,
 "nbformat_minor": 5
}
