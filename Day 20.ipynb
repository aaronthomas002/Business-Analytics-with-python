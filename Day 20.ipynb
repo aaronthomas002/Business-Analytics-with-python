{
 "cells": [
  {
   "cell_type": "code",
   "execution_count": 1,
   "id": "a82186d1",
   "metadata": {},
   "outputs": [],
   "source": [
    "import numpy as np"
   ]
  },
  {
   "cell_type": "code",
   "execution_count": 2,
   "id": "270a886c",
   "metadata": {},
   "outputs": [],
   "source": [
    "x=np.array([1,2,3,4,5,6,7,8,9,10,11,12,13])\n",
    "y=np.array([1859.4,2110.2,2018,1966,2166,2118,2054.3,2273,2501.95,2536.25,2433,2365,2451.199951])"
   ]
  },
  {
   "cell_type": "code",
   "execution_count": 3,
   "id": "c7aba54a",
   "metadata": {},
   "outputs": [],
   "source": [
    "xdash=np.mean(x)"
   ]
  },
  {
   "cell_type": "code",
   "execution_count": 4,
   "id": "4748e6d9",
   "metadata": {},
   "outputs": [
    {
     "data": {
      "text/plain": [
       "7.0"
      ]
     },
     "execution_count": 4,
     "metadata": {},
     "output_type": "execute_result"
    }
   ],
   "source": [
    "xdash"
   ]
  },
  {
   "cell_type": "code",
   "execution_count": 5,
   "id": "866148f2",
   "metadata": {},
   "outputs": [
    {
     "data": {
      "text/plain": [
       "2219.4076885384616"
      ]
     },
     "execution_count": 5,
     "metadata": {},
     "output_type": "execute_result"
    }
   ],
   "source": [
    "ydash=np.mean(y)\n",
    "ydash"
   ]
  },
  {
   "cell_type": "code",
   "execution_count": 6,
   "id": "5db529cc",
   "metadata": {},
   "outputs": [
    {
     "name": "stdout",
     "output_type": "stream",
     "text": [
      "[-6. -5. -4. -3. -2. -1.  0.  1.  2.  3.  4.  5.  6.]\n"
     ]
    }
   ],
   "source": [
    "A=x-xdash\n",
    "print(A)"
   ]
  },
  {
   "cell_type": "code",
   "execution_count": 7,
   "id": "302fb333",
   "metadata": {},
   "outputs": [
    {
     "name": "stdout",
     "output_type": "stream",
     "text": [
      "[-360.00768854 -109.20768854 -201.40768854 -253.40768854  -53.40768854\n",
      " -101.40768854 -165.10768854   53.59231146  282.54231146  316.84231146\n",
      "  213.59231146  145.59231146  231.79226246]\n"
     ]
    }
   ],
   "source": [
    "B=y-ydash\n",
    "print(B)"
   ]
  },
  {
   "cell_type": "code",
   "execution_count": 8,
   "id": "5f93c3a6",
   "metadata": {},
   "outputs": [
    {
     "name": "stdout",
     "output_type": "stream",
     "text": [
      "[2160.04613123  546.03844269  805.63075415  760.22306562  106.81537708\n",
      "  101.40768854   -0.           53.59231146  565.08462292  950.52693438\n",
      "  854.36924585  727.96155731 1390.75357477]\n"
     ]
    }
   ],
   "source": [
    "C=A*B\n",
    "print(C)"
   ]
  },
  {
   "cell_type": "code",
   "execution_count": 9,
   "id": "1e15a3e0",
   "metadata": {},
   "outputs": [],
   "source": [
    "D=sum(C)"
   ]
  },
  {
   "cell_type": "code",
   "execution_count": 10,
   "id": "f34621e1",
   "metadata": {},
   "outputs": [
    {
     "data": {
      "text/plain": [
       "9022.449706"
      ]
     },
     "execution_count": 10,
     "metadata": {},
     "output_type": "execute_result"
    }
   ],
   "source": [
    "D"
   ]
  },
  {
   "cell_type": "code",
   "execution_count": 11,
   "id": "a8f5567d",
   "metadata": {},
   "outputs": [
    {
     "name": "stdout",
     "output_type": "stream",
     "text": [
      "[36. 25. 16.  9.  4.  1.  0.  1.  4.  9. 16. 25. 36.]\n"
     ]
    }
   ],
   "source": [
    "E=A*A\n",
    "print(E)"
   ]
  },
  {
   "cell_type": "code",
   "execution_count": 12,
   "id": "2de39d21",
   "metadata": {},
   "outputs": [],
   "source": [
    "F=sum(E)"
   ]
  },
  {
   "cell_type": "code",
   "execution_count": 13,
   "id": "4faf8f15",
   "metadata": {},
   "outputs": [],
   "source": [
    "M=D/F"
   ]
  },
  {
   "cell_type": "code",
   "execution_count": 14,
   "id": "b30260b5",
   "metadata": {},
   "outputs": [
    {
     "data": {
      "text/plain": [
       "49.57389948351648"
      ]
     },
     "execution_count": 14,
     "metadata": {},
     "output_type": "execute_result"
    }
   ],
   "source": [
    "M"
   ]
  },
  {
   "cell_type": "code",
   "execution_count": 15,
   "id": "e0795ecf",
   "metadata": {},
   "outputs": [
    {
     "name": "stdout",
     "output_type": "stream",
     "text": [
      "1872.3903921538463\n"
     ]
    }
   ],
   "source": [
    "c=ydash-M*xdash\n",
    "print(c)"
   ]
  },
  {
   "cell_type": "code",
   "execution_count": 16,
   "id": "8bd7a68d",
   "metadata": {},
   "outputs": [
    {
     "name": "stdout",
     "output_type": "stream",
     "text": [
      "[1921.96429164 1971.53819112 2021.1120906  2070.68599009 2120.25988957\n",
      " 2169.83378905 2219.40768854 2268.98158802 2318.55548751 2368.12938699\n",
      " 2417.70328647 2467.27718596 2516.85108544]\n"
     ]
    }
   ],
   "source": [
    "Yn=M*x+c\n",
    "print(Yn)"
   ]
  },
  {
   "cell_type": "code",
   "execution_count": 17,
   "id": "e50f5e34",
   "metadata": {},
   "outputs": [],
   "source": [
    "import matplotlib.pyplot as plt"
   ]
  },
  {
   "cell_type": "code",
   "execution_count": 19,
   "id": "8e4d5610",
   "metadata": {},
   "outputs": [
    {
     "data": {
      "text/plain": [
       "[<matplotlib.lines.Line2D at 0x1d5717e9ca0>]"
      ]
     },
     "execution_count": 19,
     "metadata": {},
     "output_type": "execute_result"
    },
    {
     "data": {
      "image/png": "[encoded data removed]",
      "text/plain": [
       "<Figure size 432x288 with 1 Axes>"
      ]
     },
     "metadata": {
      "needs_background": "light"
     },
     "output_type": "display_data"
    }
   ],
   "source": [
    "plt.scatter(x,y)\n",
    "plt.plot(x,Yn)"
   ]
  },
  {
   "cell_type": "code",
   "execution_count": 20,
   "id": "bc154e62",
   "metadata": {},
   "outputs": [
    {
     "ename": "SyntaxError",
     "evalue": "invalid syntax (<ipython-input-20-e01c60f906ca>, line 3)",
     "output_type": "error",
     "traceback": [
      "\u001b[1;36m  File \u001b[1;32m\"<ipython-input-20-e01c60f906ca>\"\u001b[1;36m, line \u001b[1;32m3\u001b[0m\n\u001b[1;33m    M=sigma(x-xdash)(y-ydash)/sigma(x-xdash) the whole square\u001b[0m\n\u001b[1;37m                                             ^\u001b[0m\n\u001b[1;31mSyntaxError\u001b[0m\u001b[1;31m:\u001b[0m invalid syntax\n"
     ]
    }
   ],
   "source": [
    "FORMULA\n",
    "slope=M*x+c\n",
    "M=sigma(x-xdash)(y-ydash)/sigma(x-xdash) the whole square\n",
    "ydash=M*xdash+c\n",
    "C=ydash-M*xdash\n",
    "to find the 14th day=M*14thday+c\n",
    "\n",
    "if there is zero in yaxis there would be error:-\n",
    "we use "
   ]
  },
  {
   "cell_type": "code",
   "execution_count": 22,
   "id": "add0a70f",
   "metadata": {},
   "outputs": [
    {
     "name": "stdout",
     "output_type": "stream",
     "text": [
      "2566.424984923077\n"
     ]
    }
   ],
   "source": [
    "y=M*14+c\n",
    "print(y)"
   ]
  },
  {
   "cell_type": "code",
   "execution_count": 23,
   "id": "1738ffa4",
   "metadata": {},
   "outputs": [],
   "source": [
    "x=np.array([1,2,3,4,5,6,7,8,9,10,11,12,13])\n",
    "y=np.array([1859.4,2110.2,2018,1966,2166,2118,2054.3,2273,2501.95,2536.25,2433,2365,2451.199951])\n"
   ]
  },
  {
   "cell_type": "code",
   "execution_count": 24,
   "id": "a9226ea8",
   "metadata": {},
   "outputs": [],
   "source": [
    "n=np.size(x)"
   ]
  },
  {
   "cell_type": "code",
   "execution_count": 27,
   "id": "757b407c",
   "metadata": {},
   "outputs": [],
   "source": [
    "a=sum(x*y)\n"
   ]
  },
  {
   "cell_type": "code",
   "execution_count": 28,
   "id": "18f68b15",
   "metadata": {},
   "outputs": [
    {
     "name": "stdout",
     "output_type": "stream",
     "text": [
      "2742851.1417190004\n"
     ]
    }
   ],
   "source": [
    "a1=n*a\n",
    "print(a1)"
   ]
  },
  {
   "cell_type": "code",
   "execution_count": 29,
   "id": "d9dd888a",
   "metadata": {},
   "outputs": [
    {
     "name": "stdout",
     "output_type": "stream",
     "text": [
      "2625559.295541\n"
     ]
    }
   ],
   "source": [
    "b=sum(x)*sum(y)\n",
    "print(b)"
   ]
  },
  {
   "cell_type": "code",
   "execution_count": 33,
   "id": "7cfe0200",
   "metadata": {},
   "outputs": [
    {
     "name": "stdout",
     "output_type": "stream",
     "text": [
      "117291.84617800033\n"
     ]
    }
   ],
   "source": [
    "num=a1-b\n",
    "print(num)"
   ]
  },
  {
   "cell_type": "code",
   "execution_count": 31,
   "id": "bb45fb5e",
   "metadata": {},
   "outputs": [],
   "source": [
    "c=x*x\n",
    "c1=sum(c)"
   ]
  },
  {
   "cell_type": "code",
   "execution_count": 32,
   "id": "8cbd4cc4",
   "metadata": {},
   "outputs": [
    {
     "name": "stdout",
     "output_type": "stream",
     "text": [
      "9828\n"
     ]
    }
   ],
   "source": [
    "d=(n*c1)-c1\n",
    "print(d)"
   ]
  },
  {
   "cell_type": "code",
   "execution_count": 34,
   "id": "79424215",
   "metadata": {},
   "outputs": [],
   "source": [
    "b1=num/d"
   ]
  },
  {
   "cell_type": "code",
   "execution_count": 35,
   "id": "6b2af934",
   "metadata": {},
   "outputs": [
    {
     "data": {
      "text/plain": [
       "11.934457283068816"
      ]
     },
     "execution_count": 35,
     "metadata": {},
     "output_type": "execute_result"
    }
   ],
   "source": [
    "b1"
   ]
  },
  {
   "cell_type": "code",
   "execution_count": 38,
   "id": "afb10f3d",
   "metadata": {},
   "outputs": [
    {
     "name": "stdout",
     "output_type": "stream",
     "text": [
      "2219.4076885384616\n"
     ]
    }
   ],
   "source": [
    "ydashn=np.mean(y)\n",
    "print(ydashn)"
   ]
  },
  {
   "cell_type": "code",
   "execution_count": 39,
   "id": "e0cdc70d",
   "metadata": {},
   "outputs": [],
   "source": [
    "xdashn=np.mean(x)"
   ]
  },
  {
   "cell_type": "code",
   "execution_count": 40,
   "id": "2ca5e13f",
   "metadata": {},
   "outputs": [
    {
     "data": {
      "text/plain": [
       "7.0"
      ]
     },
     "execution_count": 40,
     "metadata": {},
     "output_type": "execute_result"
    }
   ],
   "source": [
    "xdashn"
   ]
  },
  {
   "cell_type": "code",
   "execution_count": 41,
   "id": "3e7de8ab",
   "metadata": {},
   "outputs": [
    {
     "name": "stdout",
     "output_type": "stream",
     "text": [
      "83.54120098148172\n"
     ]
    }
   ],
   "source": [
    "z=b1*xdashn\n",
    "print(z)"
   ]
  },
  {
   "cell_type": "code",
   "execution_count": 42,
   "id": "09ecd08a",
   "metadata": {},
   "outputs": [
    {
     "name": "stdout",
     "output_type": "stream",
     "text": [
      "2135.86648755698\n"
     ]
    }
   ],
   "source": [
    "bo=ydashn-z\n",
    "print(bo)"
   ]
  },
  {
   "cell_type": "code",
   "execution_count": 43,
   "id": "108c9324",
   "metadata": {},
   "outputs": [
    {
     "name": "stdout",
     "output_type": "stream",
     "text": [
      "[2147.80094484 2159.73540212 2171.66985941 2183.60431669 2195.53877397\n",
      " 2207.47323126 2219.40768854 2231.34214582 2243.2766031  2255.21106039\n",
      " 2267.14551767 2279.07997495 2291.01443224]\n"
     ]
    }
   ],
   "source": [
    "Ynew=b1*x+bo\n",
    "print(Ynew)"
   ]
  },
  {
   "cell_type": "code",
   "execution_count": 44,
   "id": "474b07a3",
   "metadata": {},
   "outputs": [
    {
     "data": {
      "text/plain": [
       "[<matplotlib.lines.Line2D at 0x1d571a9e9d0>]"
      ]
     },
     "execution_count": 44,
     "metadata": {},
     "output_type": "execute_result"
    },
    {
     "data": {
      "image/png": "[encoded data removed]",
      "text/plain": [
       "<Figure size 432x288 with 1 Axes>"
      ]
     },
     "metadata": {
      "needs_background": "light"
     },
     "output_type": "display_data"
    }
   ],
   "source": [
    "plt.scatter(x,y)\n",
    "plt.plot(x,Ynew)"
   ]
  },
  {
   "cell_type": "code",
   "execution_count": null,
   "id": "d6e294b5",
   "metadata": {},
   "outputs": [],
   "source": []
  }
 ],
 "metadata": {
  "kernelspec": {
   "display_name": "Python 3",
   "language": "python",
   "name": "python3"
  },
  "language_info": {
   "codemirror_mode": {
    "name": "ipython",
    "version": 3
   },
   "file_extension": ".py",
   "mimetype": "text/x-python",
   "name": "python",
   "nbconvert_exporter": "python",
   "pygments_lexer": "ipython3",
   "version": "3.8.8"
  }
 },
 "nbformat": 4,
 "nbformat_minor": 5
}
