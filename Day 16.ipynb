{
 "cells": [
  {
   "cell_type": "code",
   "execution_count": 1,
   "id": "6b6ffc7c",
   "metadata": {},
   "outputs": [
    {
     "name": "stdout",
     "output_type": "stream",
     "text": [
      "Enter the standard time20\n",
      "Enter the time Taken15\n",
      "Enter the rate 100\n",
      "1750.0\n"
     ]
    }
   ],
   "source": [
    "s=int(input(\"Enter the standard time\"))\n",
    "t=int(input(\"Enter the time Taken\"))\n",
    "r=int(input(\"Enter the rate \"))\n",
    "total_earnings=(t*r)+(s-t)*(r*1/2)\n",
    "print(total_earnings)"
   ]
  },
  {
   "cell_type": "code",
   "execution_count": 2,
   "id": "0229da61",
   "metadata": {},
   "outputs": [],
   "source": [
    "import pandas as c"
   ]
  },
  {
   "cell_type": "code",
   "execution_count": 5,
   "id": "bcb4c50a",
   "metadata": {},
   "outputs": [],
   "source": [
    "x=c.read_excel(\"sample 2.xlsx\")"
   ]
  },
  {
   "cell_type": "code",
   "execution_count": 6,
   "id": "3f8368b0",
   "metadata": {},
   "outputs": [
    {
     "data": {
      "text/html": [
       "<div>\n",
       "<style scoped>\n",
       "    .dataframe tbody tr th:only-of-type {\n",
       "        vertical-align: middle;\n",
       "    }\n",
       "\n",
       "    .dataframe tbody tr th {\n",
       "        vertical-align: top;\n",
       "    }\n",
       "\n",
       "    .dataframe thead th {\n",
       "        text-align: right;\n",
       "    }\n",
       "</style>\n",
       "<table border=\"1\" class=\"dataframe\">\n",
       "  <thead>\n",
       "    <tr style=\"text-align: right;\">\n",
       "      <th></th>\n",
       "      <th>name</th>\n",
       "      <th>t</th>\n",
       "      <th>s</th>\n",
       "      <th>r</th>\n",
       "    </tr>\n",
       "  </thead>\n",
       "  <tbody>\n",
       "    <tr>\n",
       "      <th>0</th>\n",
       "      <td>colin</td>\n",
       "      <td>20</td>\n",
       "      <td>15</td>\n",
       "      <td>600</td>\n",
       "    </tr>\n",
       "  </tbody>\n",
       "</table>\n",
       "</div>"
      ],
      "text/plain": [
       "    name   t   s    r\n",
       "0  colin  20  15  600"
      ]
     },
     "execution_count": 6,
     "metadata": {},
     "output_type": "execute_result"
    }
   ],
   "source": [
    "x"
   ]
  },
  {
   "cell_type": "code",
   "execution_count": 15,
   "id": "a68831d6",
   "metadata": {},
   "outputs": [
    {
     "name": "stdout",
     "output_type": "stream",
     "text": [
      "10500.0\n"
     ]
    }
   ],
   "source": [
    "T=x.loc[0,\"t\"]\n",
    "S=x.loc[0,\"s\"]\n",
    "R=x.loc[0,\"r\"]\n",
    "total_earnings=(T*R)+((S-T)*(1/2))*R\n",
    "print(total_earnings)"
   ]
  },
  {
   "cell_type": "code",
   "execution_count": 16,
   "id": "e106e84b",
   "metadata": {},
   "outputs": [],
   "source": [
    "x=c.read_excel(\"Sample 2.xlsx\")"
   ]
  },
  {
   "cell_type": "code",
   "execution_count": 17,
   "id": "35fbb6e0",
   "metadata": {},
   "outputs": [
    {
     "data": {
      "text/html": [
       "<div>\n",
       "<style scoped>\n",
       "    .dataframe tbody tr th:only-of-type {\n",
       "        vertical-align: middle;\n",
       "    }\n",
       "\n",
       "    .dataframe tbody tr th {\n",
       "        vertical-align: top;\n",
       "    }\n",
       "\n",
       "    .dataframe thead th {\n",
       "        text-align: right;\n",
       "    }\n",
       "</style>\n",
       "<table border=\"1\" class=\"dataframe\">\n",
       "  <thead>\n",
       "    <tr style=\"text-align: right;\">\n",
       "      <th></th>\n",
       "      <th>p</th>\n",
       "      <th>a</th>\n",
       "      <th>b</th>\n",
       "      <th>c</th>\n",
       "      <th>t</th>\n",
       "      <th>s</th>\n",
       "    </tr>\n",
       "  </thead>\n",
       "  <tbody>\n",
       "    <tr>\n",
       "      <th>0</th>\n",
       "      <td>5000</td>\n",
       "      <td>5</td>\n",
       "      <td>8</td>\n",
       "      <td>6</td>\n",
       "      <td>420</td>\n",
       "      <td>2</td>\n",
       "    </tr>\n",
       "  </tbody>\n",
       "</table>\n",
       "</div>"
      ],
      "text/plain": [
       "      p  a  b  c    t  s\n",
       "0  5000  5  8  6  420  2"
      ]
     },
     "execution_count": 17,
     "metadata": {},
     "output_type": "execute_result"
    }
   ],
   "source": [
    "x"
   ]
  },
  {
   "cell_type": "code",
   "execution_count": 20,
   "id": "74b59e0e",
   "metadata": {},
   "outputs": [
    {
     "name": "stdout",
     "output_type": "stream",
     "text": [
      "113.0952380952381\n"
     ]
    }
   ],
   "source": [
    "P=x.loc[0,\"p\"]\n",
    "A=x.loc[0,\"a\"]\n",
    "B=x.loc[0,\"b\"]\n",
    "C=x.loc[0,\"c\"]\n",
    "T=x.loc[0,\"t\"]\n",
    "S=x.loc[0,\"s\"]\n",
    "Tot_T=A+B+C\n",
    "M=((P*Tot_T)/T)/S        \n",
    "print(M)        "
   ]
  },
  {
   "cell_type": "code",
   "execution_count": 21,
   "id": "cc7865b6",
   "metadata": {},
   "outputs": [],
   "source": [
    "x=c.read_excel(\"Sample 2.xlsx\")"
   ]
  },
  {
   "cell_type": "code",
   "execution_count": 22,
   "id": "14a7e103",
   "metadata": {},
   "outputs": [
    {
     "data": {
      "text/html": [
       "<div>\n",
       "<style scoped>\n",
       "    .dataframe tbody tr th:only-of-type {\n",
       "        vertical-align: middle;\n",
       "    }\n",
       "\n",
       "    .dataframe tbody tr th {\n",
       "        vertical-align: top;\n",
       "    }\n",
       "\n",
       "    .dataframe thead th {\n",
       "        text-align: right;\n",
       "    }\n",
       "</style>\n",
       "<table border=\"1\" class=\"dataframe\">\n",
       "  <thead>\n",
       "    <tr style=\"text-align: right;\">\n",
       "      <th></th>\n",
       "      <th>p</th>\n",
       "      <th>a</th>\n",
       "      <th>b</th>\n",
       "      <th>c</th>\n",
       "      <th>t</th>\n",
       "      <th>s</th>\n",
       "    </tr>\n",
       "  </thead>\n",
       "  <tbody>\n",
       "    <tr>\n",
       "      <th>0</th>\n",
       "      <td>5000</td>\n",
       "      <td>5</td>\n",
       "      <td>8</td>\n",
       "      <td>6</td>\n",
       "      <td>420</td>\n",
       "      <td>2</td>\n",
       "    </tr>\n",
       "    <tr>\n",
       "      <th>1</th>\n",
       "      <td>4044</td>\n",
       "      <td>1</td>\n",
       "      <td>4</td>\n",
       "      <td>3</td>\n",
       "      <td>360</td>\n",
       "      <td>3</td>\n",
       "    </tr>\n",
       "    <tr>\n",
       "      <th>2</th>\n",
       "      <td>5655</td>\n",
       "      <td>3</td>\n",
       "      <td>5</td>\n",
       "      <td>2</td>\n",
       "      <td>400</td>\n",
       "      <td>1</td>\n",
       "    </tr>\n",
       "    <tr>\n",
       "      <th>3</th>\n",
       "      <td>8600</td>\n",
       "      <td>5</td>\n",
       "      <td>6</td>\n",
       "      <td>1</td>\n",
       "      <td>250</td>\n",
       "      <td>4</td>\n",
       "    </tr>\n",
       "  </tbody>\n",
       "</table>\n",
       "</div>"
      ],
      "text/plain": [
       "      p  a  b  c    t  s\n",
       "0  5000  5  8  6  420  2\n",
       "1  4044  1  4  3  360  3\n",
       "2  5655  3  5  2  400  1\n",
       "3  8600  5  6  1  250  4"
      ]
     },
     "execution_count": 22,
     "metadata": {},
     "output_type": "execute_result"
    }
   ],
   "source": [
    "x"
   ]
  },
  {
   "cell_type": "code",
   "execution_count": 27,
   "id": "92e4015f",
   "metadata": {},
   "outputs": [
    {
     "name": "stdout",
     "output_type": "stream",
     "text": [
      "113.0952380952381\n",
      "29.955555555555552\n",
      "141.375\n",
      "103.2\n"
     ]
    }
   ],
   "source": [
    "D=0\n",
    "d=0\n",
    "for D in x.index:\n",
    "    P=x.loc[D,\"p\"]\n",
    "    A=x.loc[D,\"a\"]\n",
    "    B=x.loc[D,\"b\"]\n",
    "    C=x.loc[D,\"c\"]\n",
    "    T=x.loc[D,\"t\"]\n",
    "    S=x.loc[D,\"s\"]\n",
    "    Tot_T=A+B+C\n",
    "    M=((P*Tot_T)/T)/S        \n",
    "    D=D+d\n",
    "    d=d+1\n",
    "    print(M)\n",
    "    \n",
    "    \n"
   ]
  },
  {
   "cell_type": "code",
   "execution_count": null,
   "id": "7053cfd1",
   "metadata": {},
   "outputs": [],
   "source": []
  }
 ],
 "metadata": {
  "kernelspec": {
   "display_name": "Python 3",
   "language": "python",
   "name": "python3"
  },
  "language_info": {
   "codemirror_mode": {
    "name": "ipython",
    "version": 3
   },
   "file_extension": ".py",
   "mimetype": "text/x-python",
   "name": "python",
   "nbconvert_exporter": "python",
   "pygments_lexer": "ipython3",
   "version": "3.8.8"
  }
 },
 "nbformat": 4,
 "nbformat_minor": 5
}
