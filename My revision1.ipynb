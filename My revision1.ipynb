{
 "cells": [
  {
   "cell_type": "code",
   "execution_count": 1,
   "id": "51e69711",
   "metadata": {},
   "outputs": [],
   "source": [
    "x=10\n",
    "y=20\n",
    "z=x+y"
   ]
  },
  {
   "cell_type": "code",
   "execution_count": 2,
   "id": "cd1b2aa0",
   "metadata": {},
   "outputs": [
    {
     "name": "stdout",
     "output_type": "stream",
     "text": [
      "30\n"
     ]
    }
   ],
   "source": [
    "print(z)"
   ]
  },
  {
   "cell_type": "code",
   "execution_count": 3,
   "id": "4f5d75d3",
   "metadata": {},
   "outputs": [],
   "source": [
    "x=\"India is my Country\""
   ]
  },
  {
   "cell_type": "code",
   "execution_count": 4,
   "id": "fb471e57",
   "metadata": {},
   "outputs": [
    {
     "data": {
      "text/plain": [
       "'I'"
      ]
     },
     "execution_count": 4,
     "metadata": {},
     "output_type": "execute_result"
    }
   ],
   "source": [
    "x[0]"
   ]
  },
  {
   "cell_type": "code",
   "execution_count": 5,
   "id": "7f659f81",
   "metadata": {},
   "outputs": [
    {
     "data": {
      "text/plain": [
       "'n'"
      ]
     },
     "execution_count": 5,
     "metadata": {},
     "output_type": "execute_result"
    }
   ],
   "source": [
    "x[1]"
   ]
  },
  {
   "cell_type": "code",
   "execution_count": 6,
   "id": "a64bb6d8",
   "metadata": {},
   "outputs": [
    {
     "data": {
      "text/plain": [
       "'y'"
      ]
     },
     "execution_count": 6,
     "metadata": {},
     "output_type": "execute_result"
    }
   ],
   "source": [
    "x[-1]"
   ]
  },
  {
   "cell_type": "code",
   "execution_count": 7,
   "id": "62179872",
   "metadata": {},
   "outputs": [
    {
     "data": {
      "text/plain": [
       "'India'"
      ]
     },
     "execution_count": 7,
     "metadata": {},
     "output_type": "execute_result"
    }
   ],
   "source": [
    "x[0:5]"
   ]
  },
  {
   "cell_type": "code",
   "execution_count": 2,
   "id": "d0cf90a7",
   "metadata": {},
   "outputs": [
    {
     "name": "stdout",
     "output_type": "stream",
     "text": [
      "Enter Your Name :aa\n",
      "Enter the first Number :100\n",
      "Enter the Second Number :100\n",
      "Enter the Operation :Add\n",
      "200\n"
     ]
    }
   ],
   "source": [
    "x=input(\"Enter Your Name :\")\n",
    "y=int(input(\"Enter the first Number :\"))\n",
    "z=int(input(\"Enter the Second Number :\"))\n",
    "d=input(\"Enter the Operation :\")\n",
    "if d==\"Add\":\n",
    "    a=y+z\n",
    "    print(a)\n",
    "if d==\"Substract\":\n",
    "    a=y-z\n",
    "    print(a)\n",
    "if d==\"Multiply\":\n",
    "    a=y*z\n",
    "    print(a)\n",
    "if d==\"Divide\":\n",
    "    a=y/z\n",
    "    print(a)"
   ]
  },
  {
   "cell_type": "code",
   "execution_count": 9,
   "id": "4e3f120f",
   "metadata": {},
   "outputs": [
    {
     "name": "stdout",
     "output_type": "stream",
     "text": [
      "Enter a Number : 10\n",
      "The Number is positive\n"
     ]
    }
   ],
   "source": [
    "x=int(input(\"Enter a Number : \"))\n",
    "if x>=0:\n",
    "    if x==0:\n",
    "        print(\"The Number is zero\")\n",
    "    else:\n",
    "        print(\"The Number is positive\")\n",
    "if x<0:\n",
    "    print(\"The Number is Negative\")"
   ]
  },
  {
   "cell_type": "code",
   "execution_count": 10,
   "id": "04b6d41e",
   "metadata": {},
   "outputs": [],
   "source": [
    "x=\"We are BBA students\""
   ]
  },
  {
   "cell_type": "code",
   "execution_count": 11,
   "id": "edf6889f",
   "metadata": {},
   "outputs": [
    {
     "data": {
      "text/plain": [
       "'s'"
      ]
     },
     "execution_count": 11,
     "metadata": {},
     "output_type": "execute_result"
    }
   ],
   "source": [
    "x[11]"
   ]
  },
  {
   "cell_type": "code",
   "execution_count": 12,
   "id": "5c549183",
   "metadata": {},
   "outputs": [
    {
     "data": {
      "text/plain": [
       "'WE ARE BBA STUDENTS'"
      ]
     },
     "execution_count": 12,
     "metadata": {},
     "output_type": "execute_result"
    }
   ],
   "source": [
    "x.upper()"
   ]
  },
  {
   "cell_type": "code",
   "execution_count": 13,
   "id": "ddaca723",
   "metadata": {},
   "outputs": [
    {
     "data": {
      "text/plain": [
       "'we are bba students'"
      ]
     },
     "execution_count": 13,
     "metadata": {},
     "output_type": "execute_result"
    }
   ],
   "source": [
    "x.lower()"
   ]
  },
  {
   "cell_type": "code",
   "execution_count": 14,
   "id": "f1f50bf5",
   "metadata": {},
   "outputs": [
    {
     "data": {
      "text/plain": [
       "('We are ', 'BBA', ' students')"
      ]
     },
     "execution_count": 14,
     "metadata": {},
     "output_type": "execute_result"
    }
   ],
   "source": [
    "x.partition(\"BBA\")"
   ]
  },
  {
   "cell_type": "code",
   "execution_count": 15,
   "id": "ef898b6c",
   "metadata": {},
   "outputs": [
    {
     "data": {
      "text/plain": [
       "['We are BBA ', '']"
      ]
     },
     "execution_count": 15,
     "metadata": {},
     "output_type": "execute_result"
    }
   ],
   "source": [
    "x.split(\"students\")"
   ]
  },
  {
   "cell_type": "code",
   "execution_count": 16,
   "id": "381c531b",
   "metadata": {},
   "outputs": [
    {
     "data": {
      "text/plain": [
       "True"
      ]
     },
     "execution_count": 16,
     "metadata": {},
     "output_type": "execute_result"
    }
   ],
   "source": [
    "x.startswith('W')"
   ]
  },
  {
   "cell_type": "code",
   "execution_count": 17,
   "id": "dbfb8f1e",
   "metadata": {},
   "outputs": [
    {
     "data": {
      "text/plain": [
       "2"
      ]
     },
     "execution_count": 17,
     "metadata": {},
     "output_type": "execute_result"
    }
   ],
   "source": [
    "x.count(\"s\")"
   ]
  },
  {
   "cell_type": "code",
   "execution_count": 18,
   "id": "d244b258",
   "metadata": {},
   "outputs": [
    {
     "data": {
      "text/plain": [
       "1"
      ]
     },
     "execution_count": 18,
     "metadata": {},
     "output_type": "execute_result"
    }
   ],
   "source": [
    "x.index(\"e\")"
   ]
  },
  {
   "cell_type": "code",
   "execution_count": 19,
   "id": "1b92f8a8",
   "metadata": {},
   "outputs": [
    {
     "data": {
      "text/plain": [
       "0"
      ]
     },
     "execution_count": 19,
     "metadata": {},
     "output_type": "execute_result"
    }
   ],
   "source": [
    "x.count(\"b\",3,6)"
   ]
  },
  {
   "cell_type": "code",
   "execution_count": 20,
   "id": "7d0ee6c6",
   "metadata": {},
   "outputs": [
    {
     "data": {
      "text/plain": [
       "False"
      ]
     },
     "execution_count": 20,
     "metadata": {},
     "output_type": "execute_result"
    }
   ],
   "source": [
    "x.isalnum()"
   ]
  },
  {
   "cell_type": "code",
   "execution_count": 21,
   "id": "55c3e12f",
   "metadata": {},
   "outputs": [],
   "source": [
    "x,y,z=\"AA\",\"BB\",\"CC\""
   ]
  },
  {
   "cell_type": "code",
   "execution_count": 22,
   "id": "d14a9375",
   "metadata": {},
   "outputs": [
    {
     "data": {
      "text/plain": [
       "'AA'"
      ]
     },
     "execution_count": 22,
     "metadata": {},
     "output_type": "execute_result"
    }
   ],
   "source": [
    "x"
   ]
  },
  {
   "cell_type": "code",
   "execution_count": 23,
   "id": "2ce72e9d",
   "metadata": {},
   "outputs": [
    {
     "data": {
      "text/plain": [
       "'BB'"
      ]
     },
     "execution_count": 23,
     "metadata": {},
     "output_type": "execute_result"
    }
   ],
   "source": [
    "y"
   ]
  },
  {
   "cell_type": "code",
   "execution_count": 24,
   "id": "278f82f8",
   "metadata": {},
   "outputs": [],
   "source": [
    "import math as mt"
   ]
  },
  {
   "cell_type": "code",
   "execution_count": 25,
   "id": "c9f44237",
   "metadata": {},
   "outputs": [
    {
     "data": {
      "text/plain": [
       "0.5403023058681398"
      ]
     },
     "execution_count": 25,
     "metadata": {},
     "output_type": "execute_result"
    }
   ],
   "source": [
    "mt.cos(1)"
   ]
  },
  {
   "cell_type": "code",
   "execution_count": 26,
   "id": "7c294012",
   "metadata": {},
   "outputs": [
    {
     "data": {
      "text/plain": [
       "0.6367380071391379"
      ]
     },
     "execution_count": 26,
     "metadata": {},
     "output_type": "execute_result"
    }
   ],
   "source": [
    "mt.sin(59)"
   ]
  },
  {
   "cell_type": "code",
   "execution_count": 27,
   "id": "67097d84",
   "metadata": {},
   "outputs": [
    {
     "name": "stdout",
     "output_type": "stream",
     "text": [
      "Enter the First Number :10\n",
      "Enter the Operation :add\n"
     ]
    }
   ],
   "source": [
    "x=int(input(\"Enter the First Number :\"))\n",
    "z=input(\"Enter the Operation :\")\n",
    "if z==\"sin\":\n",
    "    a=mt.sin(x)\n",
    "    print(a)\n",
    "if z==\"cos\":\n",
    "    a=mt.cos(x)\n",
    "    print(a)\n",
    "if z==\"tan\":\n",
    "    a=mt.tan(x)\n",
    "    print(a)\n",
    "    "
   ]
  },
  {
   "cell_type": "code",
   "execution_count": 3,
   "id": "eb6fba78",
   "metadata": {},
   "outputs": [
    {
     "name": "stdout",
     "output_type": "stream",
     "text": [
      "Enter The First Number :10\n",
      "Enter the  the operation :+\n",
      "Enter the Second Number :10\n",
      "20\n"
     ]
    }
   ],
   "source": [
    "x=int(input(\"Enter The First Number :\"))\n",
    "z=input(\"Enter the  the operation :\")\n",
    "y=int(input(\"Enter the Second Number :\"))\n",
    "\n",
    "def add(x,y):\n",
    "    z=x+y\n",
    "    return z\n",
    "def sub (x,y):\n",
    "    z=x-y\n",
    "    return z\n",
    "def mul(x,y):\n",
    "    z=x*y\n",
    "    return z\n",
    "def div(x,y):\n",
    "    z=x/y\n",
    "    return z\n",
    "\n",
    "if z==\"+\":\n",
    "    K=add(x,y)\n",
    "if z==\"-\":\n",
    "    K=sub(x,y)\n",
    "if z==\"*\":\n",
    "    K=mul(x,y)\n",
    "if z==\"/\":\n",
    "    K=div(x,y)\n",
    "print(K)\n",
    "\n",
    " \n",
    "\n",
    "        \n",
    "        "
   ]
  },
  {
   "cell_type": "code",
   "execution_count": null,
   "id": "f1f61e89",
   "metadata": {},
   "outputs": [],
   "source": [
    "x=int(input(\"Enter a number\"))\n",
    "def operations(a,b,c,d):\n",
    "    t=(a-b)*c/100+d\n",
    "    return t\n",
    "\n",
    "if x<250000:\n",
    "    t=operations(0,0,0,0)\n",
    "if (x>=250000) and (x<500000):\n",
    "    t=operations(x,250000,5,12500)\n",
    "print(t)    \n"
   ]
  },
  {
   "cell_type": "code",
   "execution_count": 1,
   "id": "aa6ad69b",
   "metadata": {},
   "outputs": [],
   "source": [
    "x=[2,4,6,8,10,12,14]\n",
    "y=[20,30,40,50,60,70,80]"
   ]
  },
  {
   "cell_type": "code",
   "execution_count": 2,
   "id": "6ff24441",
   "metadata": {},
   "outputs": [],
   "source": [
    "import matplotlib.pyplot as plt"
   ]
  },
  {
   "cell_type": "code",
   "execution_count": 19,
   "id": "ea5e5d4c",
   "metadata": {},
   "outputs": [
    {
     "data": {
      "text/plain": [
       "Text(0, 0.5, 'Sales')"
      ]
     },
     "execution_count": 19,
     "metadata": {},
     "output_type": "execute_result"
    },
    {
     "data": {
      "image/png": "[encoded data removed]",
      "text/plain": [
       "<Figure size 432x288 with 1 Axes>"
      ]
     },
     "metadata": {
      "needs_background": "light"
     },
     "output_type": "display_data"
    }
   ],
   "source": [
    "plt.plot(x,y,\"o:r\",ms=5,mec='black',mfc='yellow')\n",
    "plt.xlabel('Days',fontdict= {'color':'red','size':20})\n",
    "plt.ylabel('Sales',fontdict={'color':'red','size':20})"
   ]
  },
  {
   "cell_type": "code",
   "execution_count": 20,
   "id": "4bb59a3a",
   "metadata": {},
   "outputs": [],
   "source": [
    "x=[0,1,2,3,4,5]"
   ]
  },
  {
   "cell_type": "code",
   "execution_count": 26,
   "id": "94933df3",
   "metadata": {},
   "outputs": [],
   "source": [
    "x[-1]=6"
   ]
  },
  {
   "cell_type": "code",
   "execution_count": 27,
   "id": "a14712e8",
   "metadata": {},
   "outputs": [
    {
     "data": {
      "text/plain": [
       "[0, 1, 2, 3, 4, 6]"
      ]
     },
     "execution_count": 27,
     "metadata": {},
     "output_type": "execute_result"
    }
   ],
   "source": [
    "x"
   ]
  },
  {
   "cell_type": "code",
   "execution_count": 30,
   "id": "ede6ec57",
   "metadata": {},
   "outputs": [],
   "source": [
    "x.insert(5,7)"
   ]
  },
  {
   "cell_type": "code",
   "execution_count": 29,
   "id": "e144a36d",
   "metadata": {},
   "outputs": [
    {
     "data": {
      "text/plain": [
       "(5, 7)"
      ]
     },
     "execution_count": 29,
     "metadata": {},
     "output_type": "execute_result"
    }
   ],
   "source": [
    "5,7"
   ]
  }
 ],
 "metadata": {
  "kernelspec": {
   "display_name": "Python 3",
   "language": "python",
   "name": "python3"
  },
  "language_info": {
   "codemirror_mode": {
    "name": "ipython",
    "version": 3
   },
   "file_extension": ".py",
   "mimetype": "text/x-python",
   "name": "python",
   "nbconvert_exporter": "python",
   "pygments_lexer": "ipython3",
   "version": "3.8.8"
  }
 },
 "nbformat": 4,
 "nbformat_minor": 5
}
