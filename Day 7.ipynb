{
 "cells": [
  {
   "cell_type": "code",
   "execution_count": 1,
   "id": "32edab7b",
   "metadata": {},
   "outputs": [],
   "source": [
    "def add(x,y):\n",
    "    print (x+y)"
   ]
  },
  {
   "cell_type": "code",
   "execution_count": 2,
   "id": "faaf5f21",
   "metadata": {},
   "outputs": [],
   "source": [
    "def sub(x,y):\n",
    "    print (x-y)"
   ]
  },
  {
   "cell_type": "code",
   "execution_count": 3,
   "id": "a3fa2919",
   "metadata": {},
   "outputs": [],
   "source": [
    "def mul(x,y):\n",
    "    print (x*y)"
   ]
  },
  {
   "cell_type": "code",
   "execution_count": 4,
   "id": "9698da07",
   "metadata": {},
   "outputs": [],
   "source": [
    "def div(x,y):\n",
    "    print (x/y)"
   ]
  },
  {
   "cell_type": "code",
   "execution_count": 5,
   "id": "c249a2cd",
   "metadata": {},
   "outputs": [
    {
     "name": "stdout",
     "output_type": "stream",
     "text": [
      "enter first number: 2\n",
      "enter second number: 2\n"
     ]
    }
   ],
   "source": [
    "x=int(input(\"enter first number: \"))\n",
    "y=int(input(\"enter second number: \"))"
   ]
  },
  {
   "cell_type": "code",
   "execution_count": 6,
   "id": "95820914",
   "metadata": {},
   "outputs": [
    {
     "name": "stdout",
     "output_type": "stream",
     "text": [
      "4\n"
     ]
    }
   ],
   "source": [
    "add(x,y)"
   ]
  },
  {
   "cell_type": "code",
   "execution_count": 7,
   "id": "50ce578b",
   "metadata": {},
   "outputs": [
    {
     "name": "stdout",
     "output_type": "stream",
     "text": [
      "0\n"
     ]
    }
   ],
   "source": [
    "sub(x,y)"
   ]
  },
  {
   "cell_type": "code",
   "execution_count": 8,
   "id": "12e780a0",
   "metadata": {},
   "outputs": [
    {
     "name": "stdout",
     "output_type": "stream",
     "text": [
      "4\n"
     ]
    }
   ],
   "source": [
    "mul(x,y)"
   ]
  },
  {
   "cell_type": "code",
   "execution_count": 9,
   "id": "b9ba31d8",
   "metadata": {},
   "outputs": [
    {
     "name": "stdout",
     "output_type": "stream",
     "text": [
      "1.0\n"
     ]
    }
   ],
   "source": [
    "div(x,y)"
   ]
  },
  {
   "cell_type": "code",
   "execution_count": 10,
   "id": "2ae27982",
   "metadata": {},
   "outputs": [
    {
     "name": "stdout",
     "output_type": "stream",
     "text": [
      "Enter first number : 2\n",
      "Enter the operation : +\n",
      "Enter second number : 2\n",
      "4\n"
     ]
    }
   ],
   "source": [
    "x=int(input(\"Enter first number : \"))\n",
    "z= input(\"Enter the operation : \")\n",
    "y=int(input(\"Enter second number : \"))\n",
    "\n",
    "if z == \"+\":\n",
    "  add(x,y)\n",
    "if z == \"-\":\n",
    "  sub(x,y)\n",
    "if z == \"*\":\n",
    "  mul(x,y)\n",
    "if z == \"/\":\n",
    "  div(x,y)"
   ]
  },
  {
   "cell_type": "code",
   "execution_count": 11,
   "id": "0366cb68",
   "metadata": {},
   "outputs": [
    {
     "name": "stdout",
     "output_type": "stream",
     "text": [
      "Enter first number : 2\n",
      "Enter second number : 2\n",
      "4\n"
     ]
    }
   ],
   "source": [
    "def add(x,y):\n",
    "    z=x+y\n",
    "    return z\n",
    "x=int(input(\"Enter first number : \"))\n",
    "y=int(input(\"Enter second number : \"))\n",
    "a=add(x,y)\n",
    "print (a)"
   ]
  },
  {
   "cell_type": "code",
   "execution_count": 12,
   "id": "59f6b611",
   "metadata": {},
   "outputs": [
    {
     "name": "stdout",
     "output_type": "stream",
     "text": [
      "Enter first number : 2\n",
      "Enter the operation : +\n",
      "Enter second number : 2\n",
      "Result is A 4\n"
     ]
    }
   ],
   "source": [
    "x=int(input(\"Enter first number : \"))\n",
    "z= input(\"Enter the operation : \")\n",
    "y=int(input(\"Enter second number : \"))\n",
    "\n",
    "def add(x,y):\n",
    "    z=x+y\n",
    "    return z\n",
    "def mul(x,y):\n",
    "    z=x*y\n",
    "    return z\n",
    "def div(x,y):\n",
    "    z=x/y\n",
    "    return z\n",
    "def sub(x,y):\n",
    "    z=x-y\n",
    "    return z\n",
    "\n",
    "if z == \"+\":\n",
    "  A=add(x,y)\n",
    "if z == \"-\":\n",
    "  A=sub(x,y)\n",
    "if z == \"*\":\n",
    "  A=mul(x,y)\n",
    "if z == \"/\":\n",
    "  A=div(x,y)\n",
    "print(\"Result is A\",A)"
   ]
  },
  {
   "cell_type": "code",
   "execution_count": 16,
   "id": "82d38550",
   "metadata": {},
   "outputs": [
    {
     "name": "stdout",
     "output_type": "stream",
     "text": [
      "Enter first number : 10\n",
      "Enter the operation : +\n",
      "Enter second number : 10\n",
      "Result is A 20\n",
      "if you want to continue ,press y or press n to exity\n",
      "Enter third number : 5\n",
      "operation the operation: +\n",
      "Result is A 25\n"
     ]
    }
   ],
   "source": [
    "x=int(input(\"Enter first number : \"))\n",
    "z= input(\"Enter the operation : \")\n",
    "y=int(input(\"Enter second number : \"))\n",
    "\n",
    "def add(x,y):\n",
    "    z=x+y\n",
    "    return z\n",
    "def mul(x,y):\n",
    "    z=x*y\n",
    "    return z\n",
    "def div(x,y):\n",
    "    z=x/y\n",
    "    return z\n",
    "def sub(x,y):\n",
    "    z=x-y\n",
    "    return z\n",
    "\n",
    "if z == \"+\":\n",
    "  A=add(x,y)\n",
    "if z == \"-\":\n",
    "  A=sub(x,y)\n",
    "if z == \"*\":\n",
    "  A=mul(x,y)\n",
    "if z == \"/\":\n",
    "  A=div(x,y)\n",
    "print(\"Result is A\",A)\n",
    "\n",
    "c=input(\"if you want to continue ,press y or press n to exit\")\n",
    "if c==\"y\":\n",
    "    m=int(input(\"Enter third number : \"))\n",
    "    n=input(\"operation the operation: \")\n",
    "    if n == \"+\":\n",
    "        g=add(A,m)\n",
    "    if n == \"-\":\n",
    "        g=sub(A,m)\n",
    "    if n == \"*\":\n",
    "         g=mul(A,m)\n",
    "    if n == \"/\":\n",
    "        g=div(A,m)\n",
    "print(\"Result is A\",g)\n",
    "\n",
    "    \n"
   ]
  },
  {
   "cell_type": "markdown",
   "id": "a0d3aead",
   "metadata": {},
   "source": []
  }
 ],
 "metadata": {
  "kernelspec": {
   "display_name": "Python 3",
   "language": "python",
   "name": "python3"
  },
  "language_info": {
   "codemirror_mode": {
    "name": "ipython",
    "version": 3
   },
   "file_extension": ".py",
   "mimetype": "text/x-python",
   "name": "python",
   "nbconvert_exporter": "python",
   "pygments_lexer": "ipython3",
   "version": "3.8.8"
  }
 },
 "nbformat": 4,
 "nbformat_minor": 5
}
