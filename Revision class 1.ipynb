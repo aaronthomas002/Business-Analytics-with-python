{
 "cells": [
  {
   "cell_type": "code",
   "execution_count": 1,
   "id": "91e98094",
   "metadata": {},
   "outputs": [],
   "source": [
    "x=10 # x is the indetifier and x=10 is variable assignment"
   ]
  },
  {
   "cell_type": "code",
   "execution_count": 2,
   "id": "07421314",
   "metadata": {},
   "outputs": [
    {
     "name": "stdout",
     "output_type": "stream",
     "text": [
      "10\n"
     ]
    }
   ],
   "source": [
    "print(x)"
   ]
  },
  {
   "cell_type": "code",
   "execution_count": 3,
   "id": "38c55319",
   "metadata": {},
   "outputs": [
    {
     "data": {
      "text/plain": [
       "int"
      ]
     },
     "execution_count": 3,
     "metadata": {},
     "output_type": "execute_result"
    }
   ],
   "source": [
    "type(x)"
   ]
  },
  {
   "cell_type": "code",
   "execution_count": 4,
   "id": "993021d5",
   "metadata": {},
   "outputs": [],
   "source": [
    "x=10\n",
    "y=20.5\n",
    "z=\"hello\""
   ]
  },
  {
   "cell_type": "code",
   "execution_count": 5,
   "id": "d8b68f48",
   "metadata": {},
   "outputs": [
    {
     "data": {
      "text/plain": [
       "int"
      ]
     },
     "execution_count": 5,
     "metadata": {},
     "output_type": "execute_result"
    }
   ],
   "source": [
    "type(x)"
   ]
  },
  {
   "cell_type": "code",
   "execution_count": 6,
   "id": "cee02914",
   "metadata": {},
   "outputs": [
    {
     "data": {
      "text/plain": [
       "float"
      ]
     },
     "execution_count": 6,
     "metadata": {},
     "output_type": "execute_result"
    }
   ],
   "source": [
    "type(y)"
   ]
  },
  {
   "cell_type": "code",
   "execution_count": 7,
   "id": "0045cec2",
   "metadata": {},
   "outputs": [
    {
     "data": {
      "text/plain": [
       "str"
      ]
     },
     "execution_count": 7,
     "metadata": {},
     "output_type": "execute_result"
    }
   ],
   "source": [
    "type(z)"
   ]
  },
  {
   "cell_type": "code",
   "execution_count": 8,
   "id": "a2f9b62c",
   "metadata": {},
   "outputs": [],
   "source": [
    "x=10\n",
    "y=30"
   ]
  },
  {
   "cell_type": "code",
   "execution_count": 9,
   "id": "b9f67c96",
   "metadata": {},
   "outputs": [
    {
     "data": {
      "text/plain": [
       "40"
      ]
     },
     "execution_count": 9,
     "metadata": {},
     "output_type": "execute_result"
    }
   ],
   "source": [
    "x+y"
   ]
  },
  {
   "cell_type": "code",
   "execution_count": 10,
   "id": "4e34b620",
   "metadata": {},
   "outputs": [],
   "source": [
    "x=\"India\"\n",
    "y=\"Kerala\""
   ]
  },
  {
   "cell_type": "code",
   "execution_count": 11,
   "id": "9811d7ac",
   "metadata": {},
   "outputs": [
    {
     "data": {
      "text/plain": [
       "'India,Kerala'"
      ]
     },
     "execution_count": 11,
     "metadata": {},
     "output_type": "execute_result"
    }
   ],
   "source": [
    "x+\",\"+y"
   ]
  },
  {
   "cell_type": "code",
   "execution_count": 12,
   "id": "7e41fa7b",
   "metadata": {},
   "outputs": [
    {
     "data": {
      "text/plain": [
       "'1020'"
      ]
     },
     "execution_count": 12,
     "metadata": {},
     "output_type": "execute_result"
    }
   ],
   "source": [
    "x=\"10\"\n",
    "y=\"20\"\n",
    "x+y"
   ]
  },
  {
   "cell_type": "code",
   "execution_count": 13,
   "id": "dee36b94",
   "metadata": {},
   "outputs": [
    {
     "name": "stdout",
     "output_type": "stream",
     "text": [
      "Enter the first value10\n",
      "Enter the second value10\n",
      "20\n"
     ]
    }
   ],
   "source": [
    "x=int(input(\"Enter the first value\"))\n",
    "y=int(input(\"Enter the second value\"))\n",
    "z=x+y\n",
    "print(z)"
   ]
  },
  {
   "cell_type": "code",
   "execution_count": 14,
   "id": "4afa2185",
   "metadata": {},
   "outputs": [
    {
     "name": "stdout",
     "output_type": "stream",
     "text": [
      "Enter the first value10\n",
      "Enter the second value10\n",
      "Enter the operationAdd\n",
      "20\n"
     ]
    }
   ],
   "source": [
    "x=int(input(\"Enter the first value\"))\n",
    "y=int(input(\"Enter the second value\"))\n",
    "z=input(\"Enter the operation\")\n",
    "if z==\"Add\":\n",
    "    d=x+y\n",
    "    print(d)\n",
    "if z==\"Sub\":\n",
    "    d=x-y\n",
    "    print(d)\n",
    "if z==\"Multiply\":\n",
    "    d=x*y\n",
    "    print(d)\n",
    "if z==\"Divide\":\n",
    "    d=x/y\n",
    "    print(d)    "
   ]
  },
  {
   "cell_type": "code",
   "execution_count": 15,
   "id": "316b1bd0",
   "metadata": {},
   "outputs": [
    {
     "name": "stdout",
     "output_type": "stream",
     "text": [
      "Enter your Mark50\n"
     ]
    }
   ],
   "source": [
    "marks=int(input(\"Enter your Mark\"))\n",
    "if marks>50:\n",
    "    print(\"you have passed\")\n",
    "if marks<50:\n",
    "    print(\"Better luck Next Time\")"
   ]
  },
  {
   "cell_type": "code",
   "execution_count": 16,
   "id": "0b9e2a45",
   "metadata": {},
   "outputs": [
    {
     "name": "stdout",
     "output_type": "stream",
     "text": [
      "Enter your Salary500000\n",
      "you are taxable\n"
     ]
    }
   ],
   "source": [
    "sal=int(input(\"Enter your Salary\"))\n",
    "if sal>250000:\n",
    "    print(\"you are taxable\")\n",
    "if sal<250000:\n",
    "    print(\"you are not taxable\")"
   ]
  },
  {
   "cell_type": "code",
   "execution_count": 17,
   "id": "79eb0eda",
   "metadata": {},
   "outputs": [
    {
     "name": "stdout",
     "output_type": "stream",
     "text": [
      "Enter your Salary800000\n",
      "55000.0 you are taxable\n"
     ]
    }
   ],
   "source": [
    "sal=int(input(\"Enter your Salary\"))\n",
    "if sal>250000:\n",
    "    x=(sal-250000)*10/100\n",
    "    print(x,\"you are taxable\")\n",
    "if sal<250000:\n",
    "    print(\"you are not taxable\")"
   ]
  },
  {
   "cell_type": "code",
   "execution_count": 18,
   "id": "ec14d89d",
   "metadata": {},
   "outputs": [
    {
     "name": "stdout",
     "output_type": "stream",
     "text": [
      "Enter your Salary800000\n",
      "110000.0 you are taxable\n"
     ]
    }
   ],
   "source": [
    "sal=int(input(\"Enter your Salary\"))\n",
    "if sal>250000 and sal<500000:\n",
    "    x=(sal-250000)*10/100\n",
    "    print(x,\"you are taxable\")\n",
    "if sal>500000 and sal<1000000:\n",
    "    x=(sal-250000)*20/100\n",
    "    print(x,\"you are taxable\")    \n",
    "if sal<250000:\n",
    "    print(\"you are not taxable\")"
   ]
  },
  {
   "cell_type": "code",
   "execution_count": 19,
   "id": "13552dc4",
   "metadata": {},
   "outputs": [
    {
     "name": "stdout",
     "output_type": "stream",
     "text": [
      "0\n",
      "1\n",
      "2\n",
      "3\n",
      "4\n",
      "5\n",
      "6\n",
      "7\n",
      "8\n",
      "9\n",
      "10\n",
      "11\n",
      "12\n",
      "13\n",
      "14\n",
      "15\n",
      "16\n",
      "17\n",
      "18\n",
      "19\n",
      "20\n",
      "21\n",
      "22\n",
      "23\n",
      "24\n",
      "25\n",
      "26\n",
      "27\n",
      "28\n",
      "29\n",
      "30\n",
      "31\n",
      "32\n",
      "33\n",
      "34\n",
      "35\n",
      "36\n",
      "37\n",
      "38\n",
      "39\n",
      "40\n",
      "41\n",
      "42\n",
      "43\n",
      "44\n",
      "45\n",
      "46\n",
      "47\n",
      "48\n",
      "49\n",
      "50\n",
      "51\n",
      "52\n",
      "53\n",
      "54\n",
      "55\n",
      "56\n",
      "57\n",
      "58\n",
      "59\n",
      "60\n",
      "61\n",
      "62\n",
      "63\n",
      "64\n",
      "65\n",
      "66\n",
      "67\n",
      "68\n",
      "69\n",
      "70\n",
      "71\n",
      "72\n",
      "73\n",
      "74\n",
      "75\n",
      "76\n",
      "77\n",
      "78\n",
      "79\n",
      "80\n",
      "81\n",
      "82\n",
      "83\n",
      "84\n",
      "85\n",
      "86\n",
      "87\n",
      "88\n",
      "89\n",
      "90\n",
      "91\n",
      "92\n",
      "93\n",
      "94\n",
      "95\n",
      "96\n",
      "97\n",
      "98\n",
      "99\n"
     ]
    }
   ],
   "source": [
    "x=0\n",
    "while x<100:\n",
    "    print(x)\n",
    "    x=x+1"
   ]
  },
  {
   "cell_type": "code",
   "execution_count": 21,
   "id": "5d55cea1",
   "metadata": {},
   "outputs": [
    {
     "name": "stdout",
     "output_type": "stream",
     "text": [
      "0\n",
      "1\n",
      "3\n",
      "6\n",
      "10\n",
      "15\n",
      "21\n",
      "28\n",
      "36\n",
      "45\n",
      "55\n",
      "66\n",
      "78\n",
      "91\n",
      "105\n",
      "120\n",
      "136\n",
      "153\n",
      "171\n",
      "190\n",
      "210\n",
      "231\n",
      "253\n",
      "276\n",
      "300\n",
      "325\n",
      "351\n",
      "378\n",
      "406\n",
      "435\n",
      "465\n",
      "496\n",
      "528\n",
      "561\n",
      "595\n",
      "630\n",
      "666\n",
      "703\n",
      "741\n",
      "780\n",
      "820\n",
      "861\n",
      "903\n",
      "946\n",
      "990\n",
      "1035\n",
      "1081\n",
      "1128\n",
      "1176\n",
      "1225\n",
      "1275\n",
      "1326\n",
      "1378\n",
      "1431\n",
      "1485\n",
      "1540\n",
      "1596\n",
      "1653\n",
      "1711\n",
      "1770\n",
      "1830\n",
      "1891\n",
      "1953\n",
      "2016\n",
      "2080\n",
      "2145\n",
      "2211\n",
      "2278\n",
      "2346\n",
      "2415\n",
      "2485\n",
      "2556\n",
      "2628\n",
      "2701\n",
      "2775\n",
      "2850\n",
      "2926\n",
      "3003\n",
      "3081\n",
      "3160\n",
      "3240\n",
      "3321\n",
      "3403\n",
      "3486\n",
      "3570\n",
      "3655\n",
      "3741\n",
      "3828\n",
      "3916\n",
      "4005\n",
      "4095\n",
      "4186\n",
      "4278\n",
      "4371\n",
      "4465\n",
      "4560\n",
      "4656\n",
      "4753\n",
      "4851\n",
      "4950\n"
     ]
    }
   ],
   "source": [
    "x=0\n",
    "paper=0\n",
    "while x<100:\n",
    "    paper=x+paper\n",
    "    x=x+1\n",
    "    print(paper)\n",
    "    \n",
    "    "
   ]
  },
  {
   "cell_type": "code",
   "execution_count": 2,
   "id": "7c737678",
   "metadata": {},
   "outputs": [
    {
     "name": "stdout",
     "output_type": "stream",
     "text": [
      "0\n",
      "1\n",
      "3\n",
      "6\n",
      "10\n",
      "15\n",
      "21\n",
      "28\n",
      "36\n",
      "45\n",
      "55\n",
      "66\n",
      "78\n",
      "91\n",
      "105\n",
      "120\n",
      "136\n",
      "153\n",
      "171\n",
      "190\n",
      "210\n",
      "231\n",
      "253\n",
      "276\n",
      "300\n",
      "325\n",
      "351\n",
      "378\n",
      "406\n",
      "435\n",
      "465\n",
      "496\n",
      "528\n",
      "561\n",
      "595\n",
      "630\n",
      "666\n",
      "703\n",
      "741\n",
      "780\n",
      "820\n",
      "861\n",
      "903\n",
      "946\n",
      "990\n",
      "1035\n",
      "1081\n",
      "1128\n",
      "1176\n",
      "1225\n",
      "1275\n",
      "1326\n",
      "1378\n",
      "1431\n",
      "1485\n",
      "1540\n",
      "1596\n",
      "1653\n",
      "1711\n",
      "1770\n",
      "1830\n",
      "1891\n",
      "1953\n",
      "2016\n",
      "2080\n",
      "2145\n",
      "2211\n",
      "2278\n",
      "2346\n",
      "2415\n",
      "2485\n",
      "2556\n",
      "2628\n",
      "2701\n",
      "2775\n",
      "2850\n",
      "2926\n",
      "3003\n",
      "3081\n",
      "3160\n",
      "3240\n",
      "3321\n",
      "3403\n",
      "3486\n",
      "3570\n",
      "3655\n",
      "3741\n",
      "3828\n",
      "3916\n",
      "4005\n",
      "4095\n",
      "4186\n",
      "4278\n",
      "4371\n",
      "4465\n",
      "4560\n",
      "4656\n",
      "4753\n",
      "4851\n",
      "4950\n"
     ]
    }
   ],
   "source": [
    "x=0\n",
    "paper=0\n",
    "while x<100:\n",
    "    paper=x+paper\n",
    "    x=x+1\n",
    "    print(paper)\n",
    "    "
   ]
  },
  {
   "cell_type": "code",
   "execution_count": 4,
   "id": "670fe458",
   "metadata": {},
   "outputs": [
    {
     "name": "stdout",
     "output_type": "stream",
     "text": [
      "0\n",
      "1\n",
      "2\n",
      "3\n",
      "4\n",
      "5\n"
     ]
    }
   ],
   "source": [
    "x=0\n",
    "while x<10:\n",
    "    print(x)\n",
    "    if x==5:\n",
    "        break;\n",
    "    x=x+1    "
   ]
  },
  {
   "cell_type": "code",
   "execution_count": 5,
   "id": "f16a1174",
   "metadata": {},
   "outputs": [],
   "source": [
    "x=[5,6,89,\"India\",25]  #list"
   ]
  },
  {
   "cell_type": "code",
   "execution_count": 6,
   "id": "4254d832",
   "metadata": {},
   "outputs": [
    {
     "data": {
      "text/plain": [
       "[5, 6, 89, 'India', 25]"
      ]
     },
     "execution_count": 6,
     "metadata": {},
     "output_type": "execute_result"
    }
   ],
   "source": [
    "x"
   ]
  },
  {
   "cell_type": "code",
   "execution_count": 7,
   "id": "8b6b8632",
   "metadata": {},
   "outputs": [
    {
     "data": {
      "text/plain": [
       "5"
      ]
     },
     "execution_count": 7,
     "metadata": {},
     "output_type": "execute_result"
    }
   ],
   "source": [
    "x[0]"
   ]
  },
  {
   "cell_type": "code",
   "execution_count": 8,
   "id": "358529cb",
   "metadata": {},
   "outputs": [
    {
     "data": {
      "text/plain": [
       "25"
      ]
     },
     "execution_count": 8,
     "metadata": {},
     "output_type": "execute_result"
    }
   ],
   "source": [
    "x[-1]"
   ]
  },
  {
   "cell_type": "code",
   "execution_count": 11,
   "id": "674cff3e",
   "metadata": {},
   "outputs": [
    {
     "data": {
      "text/plain": [
       "'India'"
      ]
     },
     "execution_count": 11,
     "metadata": {},
     "output_type": "execute_result"
    }
   ],
   "source": [
    "x[-2]"
   ]
  },
  {
   "cell_type": "code",
   "execution_count": 12,
   "id": "aa864795",
   "metadata": {},
   "outputs": [
    {
     "data": {
      "text/plain": [
       "89"
      ]
     },
     "execution_count": 12,
     "metadata": {},
     "output_type": "execute_result"
    }
   ],
   "source": [
    "x[-3]"
   ]
  },
  {
   "cell_type": "code",
   "execution_count": 13,
   "id": "cbaa13d6",
   "metadata": {},
   "outputs": [
    {
     "data": {
      "text/plain": [
       "[5, 6]"
      ]
     },
     "execution_count": 13,
     "metadata": {},
     "output_type": "execute_result"
    }
   ],
   "source": [
    "x[0:2]"
   ]
  },
  {
   "cell_type": "code",
   "execution_count": 15,
   "id": "41b72d5b",
   "metadata": {},
   "outputs": [
    {
     "data": {
      "text/plain": [
       "[89, 'India']"
      ]
     },
     "execution_count": 15,
     "metadata": {},
     "output_type": "execute_result"
    }
   ],
   "source": [
    "x[2:4]"
   ]
  },
  {
   "cell_type": "code",
   "execution_count": 16,
   "id": "9413d07d",
   "metadata": {},
   "outputs": [],
   "source": [
    "x[3]='usa'"
   ]
  },
  {
   "cell_type": "code",
   "execution_count": 17,
   "id": "0d9a4cd6",
   "metadata": {},
   "outputs": [
    {
     "data": {
      "text/plain": [
       "[5, 6, 89, 'usa', 25]"
      ]
     },
     "execution_count": 17,
     "metadata": {},
     "output_type": "execute_result"
    }
   ],
   "source": [
    "x"
   ]
  },
  {
   "cell_type": "code",
   "execution_count": 18,
   "id": "a42df7fc",
   "metadata": {},
   "outputs": [],
   "source": [
    "x[-1]=35"
   ]
  },
  {
   "cell_type": "code",
   "execution_count": 19,
   "id": "98c76f09",
   "metadata": {},
   "outputs": [
    {
     "data": {
      "text/plain": [
       "[5, 6, 89, 'usa', 35]"
      ]
     },
     "execution_count": 19,
     "metadata": {},
     "output_type": "execute_result"
    }
   ],
   "source": [
    "x"
   ]
  },
  {
   "cell_type": "code",
   "execution_count": 20,
   "id": "dad74d7b",
   "metadata": {},
   "outputs": [],
   "source": [
    "x.append(9)"
   ]
  },
  {
   "cell_type": "code",
   "execution_count": 21,
   "id": "7597d090",
   "metadata": {},
   "outputs": [
    {
     "data": {
      "text/plain": [
       "[5, 6, 89, 'usa', 35, 9]"
      ]
     },
     "execution_count": 21,
     "metadata": {},
     "output_type": "execute_result"
    }
   ],
   "source": [
    "x"
   ]
  },
  {
   "cell_type": "code",
   "execution_count": 22,
   "id": "360c20a1",
   "metadata": {},
   "outputs": [],
   "source": [
    "x={5,6,89,'India',25,9} #tuple:- can't be edited"
   ]
  },
  {
   "cell_type": "code",
   "execution_count": 24,
   "id": "7d919a13",
   "metadata": {},
   "outputs": [
    {
     "ename": "TypeError",
     "evalue": "'set' object is not subscriptable",
     "output_type": "error",
     "traceback": [
      "\u001b[1;31m---------------------------------------------------------------------------\u001b[0m",
      "\u001b[1;31mTypeError\u001b[0m                                 Traceback (most recent call last)",
      "\u001b[1;32m<ipython-input-24-2f755f117ac9>\u001b[0m in \u001b[0;36m<module>\u001b[1;34m\u001b[0m\n\u001b[1;32m----> 1\u001b[1;33m \u001b[0mx\u001b[0m\u001b[1;33m[\u001b[0m\u001b[1;36m0\u001b[0m\u001b[1;33m]\u001b[0m\u001b[1;33m\u001b[0m\u001b[1;33m\u001b[0m\u001b[0m\n\u001b[0m",
      "\u001b[1;31mTypeError\u001b[0m: 'set' object is not subscriptable"
     ]
    }
   ],
   "source": [
    "x[0]"
   ]
  },
  {
   "cell_type": "code",
   "execution_count": 25,
   "id": "843d30b0",
   "metadata": {},
   "outputs": [],
   "source": [
    "x={5,6,89,3,4,1,5}"
   ]
  },
  {
   "cell_type": "code",
   "execution_count": 26,
   "id": "c30441f5",
   "metadata": {},
   "outputs": [
    {
     "data": {
      "text/plain": [
       "{1, 3, 4, 5, 6, 89}"
      ]
     },
     "execution_count": 26,
     "metadata": {},
     "output_type": "execute_result"
    }
   ],
   "source": [
    "x"
   ]
  },
  {
   "cell_type": "code",
   "execution_count": 27,
   "id": "1970034b",
   "metadata": {},
   "outputs": [],
   "source": [
    "x=[\"India\",\"usa\",\"Finland\",\"sri lanka\",\"UAE\"]"
   ]
  },
  {
   "cell_type": "code",
   "execution_count": 28,
   "id": "1f2a2e26",
   "metadata": {},
   "outputs": [
    {
     "name": "stdout",
     "output_type": "stream",
     "text": [
      "India\n",
      "usa\n",
      "Finland\n",
      "sri lanka\n",
      "UAE\n"
     ]
    }
   ],
   "source": [
    "for a in x:\n",
    "    print(a)"
   ]
  },
  {
   "cell_type": "code",
   "execution_count": 29,
   "id": "528d4c32",
   "metadata": {},
   "outputs": [],
   "source": [
    "## x=[P=10000,5yrs,9%] find the interest of 5yrs"
   ]
  },
  {
   "cell_type": "code",
   "execution_count": 35,
   "id": "d8ddb7a4",
   "metadata": {},
   "outputs": [],
   "source": [
    " x=[10000,5,9] "
   ]
  },
  {
   "cell_type": "code",
   "execution_count": 38,
   "id": "6254905e",
   "metadata": {},
   "outputs": [
    {
     "name": "stdout",
     "output_type": "stream",
     "text": [
      "4500.0\n"
     ]
    }
   ],
   "source": [
    "for i in x:\n",
    "    d=x[0]*x[1]*x[2]/100\n",
    "print(d)"
   ]
  },
  {
   "cell_type": "code",
   "execution_count": 39,
   "id": "8d5e9f26",
   "metadata": {},
   "outputs": [
    {
     "name": "stdout",
     "output_type": "stream",
     "text": [
      "i\n",
      "n\n",
      "d\n",
      "i\n",
      "a\n"
     ]
    }
   ],
   "source": [
    "for x in \"india\":\n",
    "    print(x)"
   ]
  },
  {
   "cell_type": "code",
   "execution_count": 40,
   "id": "c095f26c",
   "metadata": {},
   "outputs": [
    {
     "name": "stdout",
     "output_type": "stream",
     "text": [
      "i\n",
      "n\n"
     ]
    }
   ],
   "source": [
    "for x in \"india\":\n",
    "    if x==\"d\":\n",
    "        break;\n",
    "    print(x)"
   ]
  },
  {
   "cell_type": "code",
   "execution_count": 41,
   "id": "3534f4e8",
   "metadata": {},
   "outputs": [
    {
     "name": "stdout",
     "output_type": "stream",
     "text": [
      "A\n",
      "a\n",
      "r\n"
     ]
    }
   ],
   "source": [
    "for x in \"Aaron\":\n",
    "    if x==\"o\":\n",
    "        break;\n",
    "    print(x)    "
   ]
  },
  {
   "cell_type": "code",
   "execution_count": 43,
   "id": "548702e7",
   "metadata": {},
   "outputs": [
    {
     "name": "stdout",
     "output_type": "stream",
     "text": [
      "A\n",
      "a\n",
      "o\n",
      "n\n"
     ]
    }
   ],
   "source": [
    "for x in \"Aaron\":\n",
    "    if x==\"r\":\n",
    "        continue;\n",
    "    print(x) "
   ]
  },
  {
   "cell_type": "code",
   "execution_count": 44,
   "id": "44148a8c",
   "metadata": {},
   "outputs": [],
   "source": [
    "x={1:\"India\",2:\"Usa\",3:\"Sri lanka\"} ##(1,2,3 is called as key)and they are called as dictionary"
   ]
  },
  {
   "cell_type": "code",
   "execution_count": 45,
   "id": "91576eff",
   "metadata": {},
   "outputs": [
    {
     "data": {
      "text/plain": [
       "'India'"
      ]
     },
     "execution_count": 45,
     "metadata": {},
     "output_type": "execute_result"
    }
   ],
   "source": [
    "x[1]"
   ]
  },
  {
   "cell_type": "code",
   "execution_count": 47,
   "id": "4310fd81",
   "metadata": {},
   "outputs": [
    {
     "data": {
      "text/plain": [
       "'Sri lanka'"
      ]
     },
     "execution_count": 47,
     "metadata": {},
     "output_type": "execute_result"
    }
   ],
   "source": [
    "x[3]"
   ]
  },
  {
   "cell_type": "code",
   "execution_count": 48,
   "id": "e270202e",
   "metadata": {},
   "outputs": [],
   "source": [
    "import math as aaron"
   ]
  },
  {
   "cell_type": "code",
   "execution_count": 50,
   "id": "241533fb",
   "metadata": {},
   "outputs": [
    {
     "data": {
      "text/plain": [
       "3.141592653589793"
      ]
     },
     "execution_count": 50,
     "metadata": {},
     "output_type": "execute_result"
    }
   ],
   "source": [
    "aaron.pi"
   ]
  },
  {
   "cell_type": "code",
   "execution_count": 51,
   "id": "a34964fc",
   "metadata": {},
   "outputs": [
    {
     "data": {
      "text/plain": [
       "6.123233995736766e-17"
      ]
     },
     "execution_count": 51,
     "metadata": {},
     "output_type": "execute_result"
    }
   ],
   "source": [
    "aaron.cos(aaron.pi/2)"
   ]
  },
  {
   "cell_type": "code",
   "execution_count": 52,
   "id": "d0bf2e8d",
   "metadata": {},
   "outputs": [],
   "source": [
    "import matplotlib.pyplot as plt"
   ]
  },
  {
   "cell_type": "code",
   "execution_count": 53,
   "id": "76bba72d",
   "metadata": {},
   "outputs": [],
   "source": [
    "x=[1,2,3,4,5,6,7,8,9]\n",
    "y=[1,5,7,2,3,4,7,5,3]"
   ]
  },
  {
   "cell_type": "code",
   "execution_count": 54,
   "id": "07a55a01",
   "metadata": {},
   "outputs": [
    {
     "data": {
      "text/plain": [
       "[<matplotlib.lines.Line2D at 0x22b91328ac0>]"
      ]
     },
     "execution_count": 54,
     "metadata": {},
     "output_type": "execute_result"
    },
    {
     "data": {
      "image/png": "[encoded data removed]",
      "text/plain": [
       "<Figure size 432x288 with 1 Axes>"
      ]
     },
     "metadata": {
      "needs_background": "light"
     },
     "output_type": "display_data"
    }
   ],
   "source": [
    "plt.plot(x,y)"
   ]
  },
  {
   "cell_type": "code",
   "execution_count": 55,
   "id": "a8f33a23",
   "metadata": {
    "scrolled": true
   },
   "outputs": [
    {
     "data": {
      "text/plain": [
       "<matplotlib.collections.PathCollection at 0x22b91aa4c10>"
      ]
     },
     "execution_count": 55,
     "metadata": {},
     "output_type": "execute_result"
    },
    {
     "data": {
      "image/png": "[encoded data removed]",
      "text/plain": [
       "<Figure size 432x288 with 1 Axes>"
      ]
     },
     "metadata": {
      "needs_background": "light"
     },
     "output_type": "display_data"
    }
   ],
   "source": [
    "plt.scatter(x,y)"
   ]
  },
  {
   "cell_type": "code",
   "execution_count": 58,
   "id": "1acc8c83",
   "metadata": {},
   "outputs": [
    {
     "data": {
      "text/plain": [
       "Text(0, 0.5, 'Sales')"
      ]
     },
     "execution_count": 58,
     "metadata": {},
     "output_type": "execute_result"
    },
    {
     "data": {
      "image/png": "[encoded data removed]",
      "text/plain": [
       "<Figure size 432x288 with 1 Axes>"
      ]
     },
     "metadata": {
      "needs_background": "light"
     },
     "output_type": "display_data"
    }
   ],
   "source": [
    "plt.plot(x,y)\n",
    "plt.xlabel(\"Days\")\n",
    "plt.ylabel(\"Sales\")"
   ]
  },
  {
   "cell_type": "code",
   "execution_count": 63,
   "id": "23b21d7e",
   "metadata": {},
   "outputs": [
    {
     "data": {
      "text/plain": [
       "Text(0.5, 1.0, 'Sales vs days')"
      ]
     },
     "execution_count": 63,
     "metadata": {},
     "output_type": "execute_result"
    },
    {
     "data": {
      "image/png": "[encoded data removed]",
      "text/plain": [
       "<Figure size 432x288 with 1 Axes>"
      ]
     },
     "metadata": {
      "needs_background": "light"
     },
     "output_type": "display_data"
    }
   ],
   "source": [
    "plt.plot(x,y,marker='*',ms=20,mec=\"r\",mfc=\"g\")\n",
    "plt.xlabel(\"Days\")\n",
    "plt.ylabel(\"Sales\")\n",
    "plt.title('Sales vs days')"
   ]
  },
  {
   "cell_type": "code",
   "execution_count": 64,
   "id": "067ce557",
   "metadata": {},
   "outputs": [],
   "source": [
    "def add(x,y):      ## this called as a function\n",
    "    print(x+y)"
   ]
  },
  {
   "cell_type": "code",
   "execution_count": 65,
   "id": "3cbe5bc0",
   "metadata": {},
   "outputs": [
    {
     "name": "stdout",
     "output_type": "stream",
     "text": [
      "5\n"
     ]
    }
   ],
   "source": [
    "add(2,3)"
   ]
  },
  {
   "cell_type": "code",
   "execution_count": 66,
   "id": "9ecf2b83",
   "metadata": {},
   "outputs": [],
   "source": [
    "def add(x,y):\n",
    "    z=x+y\n",
    "    return z"
   ]
  },
  {
   "cell_type": "code",
   "execution_count": 69,
   "id": "7a62b2f8",
   "metadata": {},
   "outputs": [
    {
     "data": {
      "text/plain": [
       "50"
      ]
     },
     "execution_count": 69,
     "metadata": {},
     "output_type": "execute_result"
    }
   ],
   "source": [
    "add(30,20)"
   ]
  },
  {
   "cell_type": "code",
   "execution_count": 73,
   "id": "4070cc93",
   "metadata": {},
   "outputs": [
    {
     "name": "stderr",
     "output_type": "stream",
     "text": [
      "<>:23: SyntaxWarning: 'str' object is not callable; perhaps you missed a comma?\n",
      "<>:23: SyntaxWarning: 'str' object is not callable; perhaps you missed a comma?\n"
     ]
    },
    {
     "name": "stdout",
     "output_type": "stream",
     "text": [
      "Enter the first value10\n",
      "Enter the second value10\n",
      "Enter the operationadd\n",
      "20\n"
     ]
    },
    {
     "name": "stderr",
     "output_type": "stream",
     "text": [
      "<ipython-input-73-c900ea0d795e>:23: SyntaxWarning: 'str' object is not callable; perhaps you missed a comma?\n",
      "  print(\"div\"(x,y))\n"
     ]
    }
   ],
   "source": [
    "def add(x,y):\n",
    "    z=x+y\n",
    "    return z\n",
    "def sub(x,y):\n",
    "    z=x-y\n",
    "    return z\n",
    "def mul(x,y):\n",
    "    z=x*y\n",
    "    return z\n",
    "def div(x,y):\n",
    "    z=x/y\n",
    "    return z\n",
    "x=int(input(\"Enter the first value\"))\n",
    "y=int(input(\"Enter the second value\"))\n",
    "z=input(\"Enter the operation\")\n",
    "if z==\"add\":\n",
    "    print(add(x,y))\n",
    "if z==\"sub\":\n",
    "    print(sub(x,y))\n",
    "if z==\"mul\":\n",
    "    print(mul(x,y))\n",
    "if z==\"div\":\n",
    "    print(\"div\"(x,y))    "
   ]
  },
  {
   "cell_type": "code",
   "execution_count": null,
   "id": "b5daefcd",
   "metadata": {},
   "outputs": [],
   "source": []
  }
 ],
 "metadata": {
  "kernelspec": {
   "display_name": "Python 3",
   "language": "python",
   "name": "python3"
  },
  "language_info": {
   "codemirror_mode": {
    "name": "ipython",
    "version": 3
   },
   "file_extension": ".py",
   "mimetype": "text/x-python",
   "name": "python",
   "nbconvert_exporter": "python",
   "pygments_lexer": "ipython3",
   "version": "3.8.8"
  }
 },
 "nbformat": 4,
 "nbformat_minor": 5
}
